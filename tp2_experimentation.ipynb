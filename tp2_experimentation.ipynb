{
 "cells": [
  {
   "cell_type": "markdown",
   "metadata": {},
   "source": [
    "# Predicting crimes resolutions"
   ]
  },
  {
   "cell_type": "markdown",
   "metadata": {},
   "source": [
    "Our objective is to predict the resolution of a crime based on victim's features, geographical and temporary data, and some other details like the weapon used and the type of agency where the crime was reported."
   ]
  },
  {
   "cell_type": "markdown",
   "metadata": {},
   "source": [
    "# Variables to use\n",
    "### The complete set of variables could be found on the 'EDA' notebook. There we also specified the reasons why we use this subset of variables"
   ]
  },
  {
   "cell_type": "markdown",
   "metadata": {},
   "source": [
    "## Inputs\n",
    "\n",
    "<table>\n",
    "    <tr>\n",
    "        <th style=\"text-align: center;\">Variable</td>\n",
    "        <th style=\"text-align: center;\">Description</td>\n",
    "    </tr>\n",
    "    <tr>\n",
    "        <td style=\"text-align: center;\">Agency Type</td>\n",
    "        <td style=\"text-align: center;\">The type of agency</td>\n",
    "    </tr>\n",
    "    <tr>\n",
    "        <td style=\"text-align: center;\">State</td>\n",
    "        <td style=\"text-align: center;\">The name of the state where the homicide happened</td>\n",
    "    </tr>\n",
    "    <tr>\n",
    "        <td style=\"text-align: center;\">Year</td>\n",
    "        <td style=\"text-align: center;\">The year of the homicide</td>\n",
    "    </tr>\n",
    "    <tr>\n",
    "        <td style=\"text-align: center;\">Month</td>\n",
    "        <td style=\"text-align: center;\">The month of the homicide</td>\n",
    "    </tr>\n",
    "    <tr>\n",
    "        <td style=\"text-align: center;\">Crime Type</td>\n",
    "        <td style=\"text-align: center;\">The type of crime</td>\n",
    "    </tr>\n",
    "    <tr>\n",
    "        <td style=\"text-align: center;\">Victim Sex</td>\n",
    "        <td style=\"text-align: center;\">The sex of the victim</td>\n",
    "    </tr>\n",
    "    <tr>\n",
    "        <td style=\"text-align: center;\">Victim Age</td>\n",
    "        <td style=\"text-align: center;\">The age of the victim</td>\n",
    "    </tr>\n",
    "    <tr>\n",
    "        <td style=\"text-align: center;\">Victim Race</td>\n",
    "        <td style=\"text-align: center;\">The race of the victim</td>\n",
    "    </tr>\n",
    "    <tr>\n",
    "        <td style=\"text-align: center;\">Weapon</td>\n",
    "        <td style=\"text-align: center;\">The weapon used</td>\n",
    "    </tr>\n",
    "</table>"
   ]
  },
  {
   "cell_type": "markdown",
   "metadata": {},
   "source": [
    "## Output\n",
    "\n",
    "<table>\n",
    "    <tr>\n",
    "        <td style=\"text-align: center;\">**Crime Solved**</td>\n",
    "        <td style=\"text-align: center;\">Indicates whether the crime has been solved or not</td>\n",
    "    </tr>\n",
    "</table>"
   ]
  },
  {
   "cell_type": "markdown",
   "metadata": {},
   "source": [
    "# The metric"
   ]
  },
  {
   "cell_type": "markdown",
   "metadata": {},
   "source": [
    "Our client said \"We don't want to create fake hope\"..\n",
    "It's preferable to say 'The crime won't be solved' and then it's solved, than say 'The crime will be solved' and then not.\n",
    "\n",
    "So, the most important thing is not to say 'Yes' if a crime was not solved.\n",
    "\n",
    "**We need to minimize the False positives:**\n",
    "True predictions that are False.\n",
    "\n",
    "The appropiate metric for this situations is **Precision: TP / (TP - FP)**\n",
    "\n",
    "Crimes predicted as 'solved' that were solved / Crimes predicted as 'solved'.\n",
    "\n",
    "\n",
    "The best value for this metric is 1 and the worst value is 0."
   ]
  },
  {
   "cell_type": "markdown",
   "metadata": {},
   "source": [
    "# 1) Preprocessing:\n",
    "## -Dataset extraction.\n",
    "## -Unused columns removal.\n",
    "## -Used columns rename."
   ]
  },
  {
   "cell_type": "code",
   "execution_count": 10,
   "metadata": {},
   "outputs": [
    {
     "name": "stderr",
     "output_type": "stream",
     "text": [
      "/usr/local/lib/python3.6/site-packages/IPython/core/interactiveshell.py:2785: DtypeWarning: Columns (16) have mixed types. Specify dtype option on import or set low_memory=False.\n",
      "  interactivity=interactivity, compiler=compiler, result=result)\n"
     ]
    },
    {
     "data": {
      "text/plain": [
       "Index(['agency_type', 'state', 'year', 'month', 'crime_type', 'crime_solved',\n",
       "       'victim_sex', 'victim_age', 'victim_race', 'weapon'],\n",
       "      dtype='object')"
      ]
     },
     "execution_count": 10,
     "metadata": {},
     "output_type": "execute_result"
    }
   ],
   "source": [
    "import numpy as np\n",
    "import pandas as pd\n",
    "import zipfile\n",
    "\n",
    "# Extract the dataset\n",
    "zipfile.ZipFile(file='dataset.zip', mode='r').extractall()\n",
    "\n",
    "ds = pd.read_csv('dataset.csv')\n",
    "\n",
    "# Drop unused columns\n",
    "ds.drop(axis=1, inplace=True, labels=['Record ID', 'Agency Code','Agency Name', 'City', 'Incident', \n",
    "        'Perpetrator Sex', 'Perpetrator Age', 'Perpetrator Race', 'Perpetrator Ethnicity', \n",
    "        'Victim Ethnicity', 'Relationship', 'Victim Count', 'Perpetrator Count', 'Record Source'])\n",
    "\n",
    "# Column rename\n",
    "BETTER_COLUMNS_NAMES = {\n",
    "    'Agency Type': 'agency_type',\n",
    "    'State': 'state',\n",
    "    'Year': 'year',\n",
    "    'Month': 'month',\n",
    "    'Crime Type': 'crime_type',\n",
    "    'Crime Solved': 'crime_solved',\n",
    "    'Victim Sex': 'victim_sex',\n",
    "    'Victim Age': 'victim_age',\n",
    "    'Victim Race': 'victim_race',\n",
    "    'Weapon': 'weapon',\n",
    "}\n",
    "\n",
    "ds.rename(columns=BETTER_COLUMNS_NAMES, inplace=True)\n",
    "\n",
    "ds.columns"
   ]
  },
  {
   "cell_type": "markdown",
   "metadata": {},
   "source": [
    "## -Output variable balance"
   ]
  },
  {
   "cell_type": "code",
   "execution_count": 11,
   "metadata": {},
   "outputs": [
    {
     "name": "stdout",
     "output_type": "stream",
     "text": [
      "No     190282\n",
      "Yes    190282\n",
      "Name: crime_solved, dtype: int64\n"
     ]
    }
   ],
   "source": [
    "from sklearn.utils import shuffle\n",
    "\n",
    "# Left the crime_solved='Yes' rows at the end\n",
    "ds.sort_values(by='crime_solved', inplace=True)\n",
    "\n",
    "# Drop rows to get the same number of examples of 'Yes' and 'No'\n",
    "ds.drop(ds.index[-257890:], inplace=True)\n",
    "\n",
    "ds = shuffle(ds)\n",
    "\n",
    "print(ds.crime_solved.value_counts())"
   ]
  },
  {
   "cell_type": "markdown",
   "metadata": {},
   "source": [
    "## -Splitting the dataset into train, test and validation"
   ]
  },
  {
   "cell_type": "code",
   "execution_count": 12,
   "metadata": {},
   "outputs": [],
   "source": [
    "from sklearn.model_selection import train_test_split\n",
    "\n",
    "# 60% train, 30% test, 10% validation\n",
    "train, not_train = train_test_split(ds, test_size=0.4)\n",
    "validation, test = train_test_split(not_train, test_size=0.75)"
   ]
  },
  {
   "cell_type": "markdown",
   "metadata": {},
   "source": [
    "# 2) Defining a generic function to evaluate the different models"
   ]
  },
  {
   "cell_type": "code",
   "execution_count": 13,
   "metadata": {},
   "outputs": [],
   "source": [
    "from sklearn.metrics import precision_score, accuracy_score, confusion_matrix\n",
    "from matplotlib import pyplot as plt\n",
    "%matplotlib inline\n",
    "scaler = StandardScaler()\n",
    "\n",
    "def evaluate_model(model, extract_inputs_outputs, include_validation=False):\n",
    "    sets = [('train', train), ('test', test)]\n",
    "    if (include_validation):\n",
    "        sets.append(('validation', validation))\n",
    "    \n",
    "    for set_name, set_data in sets:\n",
    "        inputs, outputs = extract_inputs_outputs(set_data)\n",
    "\n",
    "        predictions = model.predict(inputs)\n",
    "\n",
    "        predictions = predictions.astype(np.float64).round()\n",
    "        \n",
    "        print('Model evaluation on dataset:' + set_name)\n",
    "        \n",
    "        print('Accuracy score:', accuracy_score(outputs, predictions))\n",
    "        \n",
    "        print('Precision score:', precision_score(outputs, predictions))\n",
    "        \n",
    "        plt.figure(figsize=(3,4))\n",
    "        \n",
    "        plt.xticks([0, 1], ['not solved', 'solved'], rotation=45)\n",
    "        plt.yticks([0, 1], ['not solved', 'solved'])\n",
    "        plt.xlabel('Predicted class')\n",
    "        plt.ylabel('True class')\n",
    "\n",
    "        plt.title(set_name)\n",
    "\n",
    "        plt.imshow(\n",
    "            confusion_matrix(outputs, predictions),\n",
    "            cmap=plt.cm.Blues,\n",
    "            interpolation='nearest',\n",
    "        )\n",
    "\n",
    "        plt.show()\n",
    "        "
   ]
  },
  {
   "cell_type": "markdown",
   "metadata": {},
   "source": [
    "# 3) Models:"
   ]
  },
  {
   "cell_type": "markdown",
   "metadata": {},
   "source": [
    "# First attempt: Logistic Regression"
   ]
  },
  {
   "cell_type": "code",
   "execution_count": 14,
   "metadata": {},
   "outputs": [],
   "source": [
    "from sklearn.linear_model import LogisticRegression\n",
    "from sklearn.preprocessing import StandardScaler\n",
    "from sklearn.pipeline import Pipeline"
   ]
  },
  {
   "cell_type": "markdown",
   "metadata": {},
   "source": [
    "(The main challenge here is to handle the categorical variables. This is a common preprocessing step where we have to convert any possible text value into a new column. It's necessary since the Logistic Regression only handles numbers)"
   ]
  },
  {
   "cell_type": "code",
   "execution_count": 15,
   "metadata": {},
   "outputs": [],
   "source": [
    "import datetime as d\n",
    "\n",
    "def lr_extract_inputs_outputs(dataset):\n",
    "    ds = dataset.copy()\n",
    "    \n",
    "    # month format\n",
    "    ds.month = ds.month.apply(lambda x: d.datetime.strptime(x[:3], '%b').month)\n",
    "    \n",
    "    # agency type\n",
    "    for agency_type in ds.agency_type.unique():\n",
    "        ds[agency_type.lower().replace(' ', '_')] = (ds.agency_type == agency_type)\n",
    "    ds.drop(columns=['agency_type'], inplace=True)\n",
    "    \n",
    "    # state\n",
    "    for state in ds.state.unique():\n",
    "        ds[state.lower().replace(' ', '_')] = (ds.state == state)\n",
    "    ds.drop(columns=['state'], inplace=True)\n",
    "        \n",
    "    # crime type\n",
    "    for crime_type in ds.crime_type.unique():\n",
    "        ds[crime_type.lower().replace(' ', '_')] = (ds.crime_type == crime_type)\n",
    "    ds.drop(columns=['crime_type'], inplace=True)\n",
    "        \n",
    "    # victim sex\n",
    "    ds = ds[ds.victim_sex != 'Unknown']\n",
    "    for victim_sex in ds.victim_sex.unique():\n",
    "        ds[victim_sex.lower().replace(' ', '_')] = (ds.victim_sex == victim_sex)\n",
    "    ds.drop(columns=['victim_sex'], inplace=True)\n",
    "        \n",
    "    # victim age\n",
    "    ds = ds[ds.victim_age != 998]\n",
    "\n",
    "    # victim race\n",
    "    ds = ds[ds.victim_race != 'Unknown']\n",
    "    for victim_race in ds.victim_race.unique():\n",
    "        ds[victim_race.lower().replace(' ','_')] = (ds.victim_race == victim_race)\n",
    "    ds.drop(columns=['victim_race'], inplace=True)\n",
    "\n",
    "    # weapon\n",
    "    ds = ds[ds.weapon != 'Unknown']\n",
    "\n",
    "    for weapon in ds.weapon.unique():\n",
    "        ds[weapon.lower().replace(' ', '_')] = (ds.weapon == weapon)\n",
    "    ds.drop(columns=['weapon'], inplace=True)\n",
    "    \n",
    "    # crime_solved\n",
    "    ds['crime_solved'] = (ds.crime_solved == 'Yes')\n",
    "    \n",
    "    inputs = ds.drop(columns=['crime_solved'])\n",
    "    outputs = ds.crime_solved\n",
    "    \n",
    "    return [scaler.fit_transform(inputs).astype(np.float64), outputs.values]"
   ]
  },
  {
   "cell_type": "code",
   "execution_count": 16,
   "metadata": {},
   "outputs": [],
   "source": [
    "lr_model = LogisticRegression()"
   ]
  },
  {
   "cell_type": "code",
   "execution_count": 17,
   "metadata": {},
   "outputs": [
    {
     "data": {
      "text/plain": [
       "LogisticRegression(C=1.0, class_weight=None, dual=False, fit_intercept=True,\n",
       "          intercept_scaling=1, max_iter=100, multi_class='ovr', n_jobs=1,\n",
       "          penalty='l2', random_state=None, solver='liblinear', tol=0.0001,\n",
       "          verbose=0, warm_start=False)"
      ]
     },
     "execution_count": 17,
     "metadata": {},
     "output_type": "execute_result"
    }
   ],
   "source": [
    "inputs, outputs = lr_extract_inputs_outputs(train)\n",
    "\n",
    "lr_model.fit(inputs, outputs)"
   ]
  },
  {
   "cell_type": "code",
   "execution_count": 18,
   "metadata": {},
   "outputs": [
    {
     "name": "stdout",
     "output_type": "stream",
     "text": [
      "Model evaluation on dataset:train\n",
      "Accuracy score: 0.7501511077267211\n",
      "Precision score: 0.7388334209143458\n"
     ]
    },
    {
     "data": {
      "image/png": "[encoded data removed]",
      "text/plain": [
       "<Figure size 216x288 with 1 Axes>"
      ]
     },
     "metadata": {},
     "output_type": "display_data"
    },
    {
     "name": "stdout",
     "output_type": "stream",
     "text": [
      "Model evaluation on dataset:test\n",
      "Accuracy score: 0.7154351411384501\n",
      "Precision score: 0.7091810966810966\n"
     ]
    },
    {
     "data": {
      "image/png": "[encoded data removed]",
      "text/plain": [
       "<Figure size 216x288 with 1 Axes>"
      ]
     },
     "metadata": {},
     "output_type": "display_data"
    },
    {
     "name": "stdout",
     "output_type": "stream",
     "text": [
      "Model evaluation on dataset:validation\n",
      "Accuracy score: 0.6901215545283342\n",
      "Precision score: 0.6813722890927408\n"
     ]
    },
    {
     "data": {
      "image/png": "[encoded data removed]",
      "text/plain": [
       "<Figure size 216x288 with 1 Axes>"
      ]
     },
     "metadata": {},
     "output_type": "display_data"
    }
   ],
   "source": [
    "evaluate_model(lr_model, lr_extract_inputs_outputs, include_validation=True)"
   ]
  },
  {
   "cell_type": "markdown",
   "metadata": {},
   "source": [
    "## Conclusions:\n",
    "The logistic regression isn't doing it very well. The precission score for the test set was 0.68 and we can see on the confussion matrix that it's getting many False Positives. Clearly, we can't present this model to our client."
   ]
  },
  {
   "cell_type": "markdown",
   "metadata": {},
   "source": [
    "# 2nd model: Decision Trees"
   ]
  },
  {
   "cell_type": "markdown",
   "metadata": {},
   "source": [
    "(Here we faced the problem of converting every text value into a numeric one. In the case of the 'state' column it was a big work to map the 50 different values. Maybe a better approach would be to create the map in a dynamic way, as we can get the possible values of a column by ds.column_name.unique(). This could be an improvement for the future work)"
   ]
  },
  {
   "cell_type": "code",
   "execution_count": 19,
   "metadata": {},
   "outputs": [],
   "source": [
    "import datetime as d\n",
    "\n",
    "def dt_extract_inputs_outputs(dataset):\n",
    "    ds = dataset.copy()\n",
    "\n",
    "    # month format\n",
    "    ds.month = ds.month.apply(lambda x: d.datetime.strptime(x[:3], '%b').month)\n",
    "    \n",
    "    # victim sex\n",
    "    ds = ds[ds.victim_sex != 'Unknown']\n",
    "\n",
    "    # victim age\n",
    "    ds = ds[ds.victim_age != 998]\n",
    "\n",
    "    # victim race\n",
    "    ds = ds[ds.victim_race != 'Unknown']\n",
    "\n",
    "    # weapon\n",
    "    ds = ds[ds.weapon != 'Unknown']\n",
    "\n",
    "    ds['weapon'] = ds.weapon.map({'Blunt Object': 1, 'Rifle': 2, 'Knife': 3,\n",
    "       'Gun': 4, 'Fire': 5, 'Suffocation': 6, 'Strangulation': 7,\n",
    "       'Explosives': 8, 'Drugs': 9, 'Drowning': 10, 'Poison': 11, 'Fall': 12,\n",
    "       'Handgun': 13, 'Firearm': 14, 'Shotgun': 15})\n",
    "    \n",
    "    # agency type\n",
    "    ds['agency_type'] = ds.agency_type.map({'Municipal Police': 1, 'Sheriff': 2, 'County Police': 3, \n",
    "                        'State Police': 4, 'Special Police': 5, 'Tribal Police': 5, 'Regional Police': 6})\n",
    "    \n",
    "    # crime_solved\n",
    "    ds['crime_solved'] = (ds.crime_solved == 'Yes')\n",
    "    \n",
    "    \n",
    "    ds['victim_race'] = ds.victim_race.map({'Black': 1, 'White': 2,\n",
    "                                            'Asian/Pacific Islander': 3,\n",
    "                                            'Native American/Alaska Native':4})\n",
    "    \n",
    "    # state\n",
    "    ds['state'] = ds.state.map({'Pennsylvania': 1, 'Florida': 2, 'Illinois': 3, 'Louisiana': 4, 'California': 5,\n",
    "       'New Jersey': 6, 'Texas': 7, 'Tennessee': 8, 'Michigan': 9, 'Maryland': 10,\n",
    "       'New York': 11, 'North Carolina': 12, 'Missouri': 13, 'Ohio': 14, 'Georgia': 15,\n",
    "       'Oklahoma': 16, 'Nevada': 17, 'West Virginia': 18, 'District of Columbia': 19,\n",
    "       'Virginia': 20, 'Colorado': 21, 'Kentucky': 22, 'Minnesota': 23, 'New Mexico': 24,\n",
    "       'Arizona': 25, 'Idaho': 26, 'Oregon': 27, 'Arkansas': 28, 'Indiana': 29, 'Wisconsin': 30,\n",
    "       'Mississippi': 31, 'Connecticut': 32, 'Washington': 33, 'Maine': 34,\n",
    "       'Massachusetts': 35, 'Iowa': 36, 'South Carolina': 37, 'Alabama': 38, 'Nebraska': 39,\n",
    "       'Alaska': 40, 'Utah': 41, 'Delaware': 42, 'Hawaii': 43, 'Vermont': 44, 'Wyoming': 45,\n",
    "       'Rhodes Island': 46, 'Kansas': 47, 'Montana': 48, 'New Hampshire': 49,\n",
    "       'North Dakota': 50, 'South Dakota': 51})\n",
    "    \n",
    "    # crime solved\n",
    "    ds['crime_type'] = ds.crime_type.map({'Murder or Manslaughter': 1, 'Manslaughter by Negligence': 2})\n",
    "    \n",
    "    # victim sex\n",
    "    ds['victim_sex'] = ds.victim_sex.map({'Male': 1, 'Female': 2})\n",
    "    \n",
    "    inputs = ds.drop(columns=['crime_solved'])\n",
    "    outputs = ds.crime_solved\n",
    "    \n",
    "    return [inputs.values, outputs.values]"
   ]
  },
  {
   "cell_type": "code",
   "execution_count": 20,
   "metadata": {},
   "outputs": [
    {
     "data": {
      "text/plain": [
       "DecisionTreeClassifier(class_weight=None, criterion='gini', max_depth=15,\n",
       "            max_features=None, max_leaf_nodes=None,\n",
       "            min_impurity_decrease=0.0, min_impurity_split=None,\n",
       "            min_samples_leaf=1, min_samples_split=2,\n",
       "            min_weight_fraction_leaf=0.0, presort=False, random_state=None,\n",
       "            splitter='best')"
      ]
     },
     "execution_count": 20,
     "metadata": {},
     "output_type": "execute_result"
    }
   ],
   "source": [
    "from sklearn.tree import DecisionTreeClassifier\n",
    "\n",
    "dt_classifier = DecisionTreeClassifier(max_depth=15);\n",
    "\n",
    "inputs, outputs = dt_extract_inputs_outputs(train)\n",
    "dt_classifier.fit(inputs, outputs)"
   ]
  },
  {
   "cell_type": "code",
   "execution_count": 21,
   "metadata": {},
   "outputs": [
    {
     "name": "stdout",
     "output_type": "stream",
     "text": [
      "Model evaluation on dataset:train\n",
      "Accuracy score: 0.8240487352164291\n",
      "Precision score: 0.7852440895517463\n"
     ]
    },
    {
     "data": {
      "image/png": "[encoded data removed]",
      "text/plain": [
       "<Figure size 216x288 with 1 Axes>"
      ]
     },
     "metadata": {},
     "output_type": "display_data"
    },
    {
     "name": "stdout",
     "output_type": "stream",
     "text": [
      "Model evaluation on dataset:test\n",
      "Accuracy score: 0.787963430794017\n",
      "Precision score: 0.7554232453230728\n"
     ]
    },
    {
     "data": {
      "image/png": "[encoded data removed]",
      "text/plain": [
       "<Figure size 216x288 with 1 Axes>"
      ]
     },
     "metadata": {},
     "output_type": "display_data"
    },
    {
     "name": "stdout",
     "output_type": "stream",
     "text": [
      "Model evaluation on dataset:validation\n",
      "Accuracy score: 0.7891628145865434\n",
      "Precision score: 0.7561860280234523\n"
     ]
    },
    {
     "data": {
      "image/png": "[encoded data removed]",
      "text/plain": [
       "<Figure size 216x288 with 1 Axes>"
      ]
     },
     "metadata": {},
     "output_type": "display_data"
    }
   ],
   "source": [
    "evaluate_model(dt_classifier, dt_extract_inputs_outputs, include_validation=True)"
   ]
  },
  {
   "cell_type": "code",
   "execution_count": 22,
   "metadata": {
    "scrolled": false
   },
   "outputs": [
    {
     "ename": "ExecutableNotFound",
     "evalue": "failed to execute ['dot', '-Tsvg'], make sure the Graphviz executables are on your systems' PATH",
     "output_type": "error",
     "traceback": [
      "\u001b[0;31m---------------------------------------------------------------------------\u001b[0m",
      "\u001b[0;31mFileNotFoundError\u001b[0m                         Traceback (most recent call last)",
      "\u001b[0;32m/usr/local/lib/python3.6/site-packages/graphviz/backend.py\u001b[0m in \u001b[0;36mpipe\u001b[0;34m(engine, format, data, quiet)\u001b[0m\n\u001b[1;32m    153\u001b[0m             \u001b[0mstdout\u001b[0m\u001b[0;34m=\u001b[0m\u001b[0msubprocess\u001b[0m\u001b[0;34m.\u001b[0m\u001b[0mPIPE\u001b[0m\u001b[0;34m,\u001b[0m \u001b[0mstderr\u001b[0m\u001b[0;34m=\u001b[0m\u001b[0msubprocess\u001b[0m\u001b[0;34m.\u001b[0m\u001b[0mPIPE\u001b[0m\u001b[0;34m,\u001b[0m\u001b[0;34m\u001b[0m\u001b[0m\n\u001b[0;32m--> 154\u001b[0;31m             startupinfo=STARTUPINFO)\n\u001b[0m\u001b[1;32m    155\u001b[0m     \u001b[0;32mexcept\u001b[0m \u001b[0mOSError\u001b[0m \u001b[0;32mas\u001b[0m \u001b[0me\u001b[0m\u001b[0;34m:\u001b[0m\u001b[0;34m\u001b[0m\u001b[0m\n",
      "\u001b[0;32m/usr/local/Cellar/python/3.6.5/Frameworks/Python.framework/Versions/3.6/lib/python3.6/subprocess.py\u001b[0m in \u001b[0;36m__init__\u001b[0;34m(self, args, bufsize, executable, stdin, stdout, stderr, preexec_fn, close_fds, shell, cwd, env, universal_newlines, startupinfo, creationflags, restore_signals, start_new_session, pass_fds, encoding, errors)\u001b[0m\n\u001b[1;32m    708\u001b[0m                                 \u001b[0merrread\u001b[0m\u001b[0;34m,\u001b[0m \u001b[0merrwrite\u001b[0m\u001b[0;34m,\u001b[0m\u001b[0;34m\u001b[0m\u001b[0m\n\u001b[0;32m--> 709\u001b[0;31m                                 restore_signals, start_new_session)\n\u001b[0m\u001b[1;32m    710\u001b[0m         \u001b[0;32mexcept\u001b[0m\u001b[0;34m:\u001b[0m\u001b[0;34m\u001b[0m\u001b[0m\n",
      "\u001b[0;32m/usr/local/Cellar/python/3.6.5/Frameworks/Python.framework/Versions/3.6/lib/python3.6/subprocess.py\u001b[0m in \u001b[0;36m_execute_child\u001b[0;34m(self, args, executable, preexec_fn, close_fds, pass_fds, cwd, env, startupinfo, creationflags, shell, p2cread, p2cwrite, c2pread, c2pwrite, errread, errwrite, restore_signals, start_new_session)\u001b[0m\n\u001b[1;32m   1343\u001b[0m                             \u001b[0merr_msg\u001b[0m \u001b[0;34m+=\u001b[0m \u001b[0;34m': '\u001b[0m \u001b[0;34m+\u001b[0m \u001b[0mrepr\u001b[0m\u001b[0;34m(\u001b[0m\u001b[0merr_filename\u001b[0m\u001b[0;34m)\u001b[0m\u001b[0;34m\u001b[0m\u001b[0m\n\u001b[0;32m-> 1344\u001b[0;31m                     \u001b[0;32mraise\u001b[0m \u001b[0mchild_exception_type\u001b[0m\u001b[0;34m(\u001b[0m\u001b[0merrno_num\u001b[0m\u001b[0;34m,\u001b[0m \u001b[0merr_msg\u001b[0m\u001b[0;34m,\u001b[0m \u001b[0merr_filename\u001b[0m\u001b[0;34m)\u001b[0m\u001b[0;34m\u001b[0m\u001b[0m\n\u001b[0m\u001b[1;32m   1345\u001b[0m                 \u001b[0;32mraise\u001b[0m \u001b[0mchild_exception_type\u001b[0m\u001b[0;34m(\u001b[0m\u001b[0merr_msg\u001b[0m\u001b[0;34m)\u001b[0m\u001b[0;34m\u001b[0m\u001b[0m\n",
      "\u001b[0;31mFileNotFoundError\u001b[0m: [Errno 2] No such file or directory: 'dot': 'dot'",
      "\nDuring handling of the above exception, another exception occurred:\n",
      "\u001b[0;31mExecutableNotFound\u001b[0m                        Traceback (most recent call last)",
      "\u001b[0;32m/usr/local/lib/python3.6/site-packages/IPython/core/formatters.py\u001b[0m in \u001b[0;36m__call__\u001b[0;34m(self, obj)\u001b[0m\n\u001b[1;32m    343\u001b[0m             \u001b[0mmethod\u001b[0m \u001b[0;34m=\u001b[0m \u001b[0mget_real_method\u001b[0m\u001b[0;34m(\u001b[0m\u001b[0mobj\u001b[0m\u001b[0;34m,\u001b[0m \u001b[0mself\u001b[0m\u001b[0;34m.\u001b[0m\u001b[0mprint_method\u001b[0m\u001b[0;34m)\u001b[0m\u001b[0;34m\u001b[0m\u001b[0m\n\u001b[1;32m    344\u001b[0m             \u001b[0;32mif\u001b[0m \u001b[0mmethod\u001b[0m \u001b[0;32mis\u001b[0m \u001b[0;32mnot\u001b[0m \u001b[0;32mNone\u001b[0m\u001b[0;34m:\u001b[0m\u001b[0;34m\u001b[0m\u001b[0m\n\u001b[0;32m--> 345\u001b[0;31m                 \u001b[0;32mreturn\u001b[0m \u001b[0mmethod\u001b[0m\u001b[0;34m(\u001b[0m\u001b[0;34m)\u001b[0m\u001b[0;34m\u001b[0m\u001b[0m\n\u001b[0m\u001b[1;32m    346\u001b[0m             \u001b[0;32mreturn\u001b[0m \u001b[0;32mNone\u001b[0m\u001b[0;34m\u001b[0m\u001b[0m\n\u001b[1;32m    347\u001b[0m         \u001b[0;32melse\u001b[0m\u001b[0;34m:\u001b[0m\u001b[0;34m\u001b[0m\u001b[0m\n",
      "\u001b[0;32m/usr/local/lib/python3.6/site-packages/graphviz/files.py\u001b[0m in \u001b[0;36m_repr_svg_\u001b[0;34m(self)\u001b[0m\n\u001b[1;32m    104\u001b[0m \u001b[0;34m\u001b[0m\u001b[0m\n\u001b[1;32m    105\u001b[0m     \u001b[0;32mdef\u001b[0m \u001b[0m_repr_svg_\u001b[0m\u001b[0;34m(\u001b[0m\u001b[0mself\u001b[0m\u001b[0;34m)\u001b[0m\u001b[0;34m:\u001b[0m\u001b[0;34m\u001b[0m\u001b[0m\n\u001b[0;32m--> 106\u001b[0;31m         \u001b[0;32mreturn\u001b[0m \u001b[0mself\u001b[0m\u001b[0;34m.\u001b[0m\u001b[0mpipe\u001b[0m\u001b[0;34m(\u001b[0m\u001b[0mformat\u001b[0m\u001b[0;34m=\u001b[0m\u001b[0;34m'svg'\u001b[0m\u001b[0;34m)\u001b[0m\u001b[0;34m.\u001b[0m\u001b[0mdecode\u001b[0m\u001b[0;34m(\u001b[0m\u001b[0mself\u001b[0m\u001b[0;34m.\u001b[0m\u001b[0m_encoding\u001b[0m\u001b[0;34m)\u001b[0m\u001b[0;34m\u001b[0m\u001b[0m\n\u001b[0m\u001b[1;32m    107\u001b[0m \u001b[0;34m\u001b[0m\u001b[0m\n\u001b[1;32m    108\u001b[0m     \u001b[0;32mdef\u001b[0m \u001b[0mpipe\u001b[0m\u001b[0;34m(\u001b[0m\u001b[0mself\u001b[0m\u001b[0;34m,\u001b[0m \u001b[0mformat\u001b[0m\u001b[0;34m=\u001b[0m\u001b[0;32mNone\u001b[0m\u001b[0;34m)\u001b[0m\u001b[0;34m:\u001b[0m\u001b[0;34m\u001b[0m\u001b[0m\n",
      "\u001b[0;32m/usr/local/lib/python3.6/site-packages/graphviz/files.py\u001b[0m in \u001b[0;36mpipe\u001b[0;34m(self, format)\u001b[0m\n\u001b[1;32m    123\u001b[0m         \u001b[0mdata\u001b[0m \u001b[0;34m=\u001b[0m \u001b[0mtext_type\u001b[0m\u001b[0;34m(\u001b[0m\u001b[0mself\u001b[0m\u001b[0;34m.\u001b[0m\u001b[0msource\u001b[0m\u001b[0;34m)\u001b[0m\u001b[0;34m.\u001b[0m\u001b[0mencode\u001b[0m\u001b[0;34m(\u001b[0m\u001b[0mself\u001b[0m\u001b[0;34m.\u001b[0m\u001b[0m_encoding\u001b[0m\u001b[0;34m)\u001b[0m\u001b[0;34m\u001b[0m\u001b[0m\n\u001b[1;32m    124\u001b[0m \u001b[0;34m\u001b[0m\u001b[0m\n\u001b[0;32m--> 125\u001b[0;31m         \u001b[0mouts\u001b[0m \u001b[0;34m=\u001b[0m \u001b[0mbackend\u001b[0m\u001b[0;34m.\u001b[0m\u001b[0mpipe\u001b[0m\u001b[0;34m(\u001b[0m\u001b[0mself\u001b[0m\u001b[0;34m.\u001b[0m\u001b[0m_engine\u001b[0m\u001b[0;34m,\u001b[0m \u001b[0mformat\u001b[0m\u001b[0;34m,\u001b[0m \u001b[0mdata\u001b[0m\u001b[0;34m)\u001b[0m\u001b[0;34m\u001b[0m\u001b[0m\n\u001b[0m\u001b[1;32m    126\u001b[0m \u001b[0;34m\u001b[0m\u001b[0m\n\u001b[1;32m    127\u001b[0m         \u001b[0;32mreturn\u001b[0m \u001b[0mouts\u001b[0m\u001b[0;34m\u001b[0m\u001b[0m\n",
      "\u001b[0;32m/usr/local/lib/python3.6/site-packages/graphviz/backend.py\u001b[0m in \u001b[0;36mpipe\u001b[0;34m(engine, format, data, quiet)\u001b[0m\n\u001b[1;32m    155\u001b[0m     \u001b[0;32mexcept\u001b[0m \u001b[0mOSError\u001b[0m \u001b[0;32mas\u001b[0m \u001b[0me\u001b[0m\u001b[0;34m:\u001b[0m\u001b[0;34m\u001b[0m\u001b[0m\n\u001b[1;32m    156\u001b[0m         \u001b[0;32mif\u001b[0m \u001b[0me\u001b[0m\u001b[0;34m.\u001b[0m\u001b[0merrno\u001b[0m \u001b[0;34m==\u001b[0m \u001b[0merrno\u001b[0m\u001b[0;34m.\u001b[0m\u001b[0mENOENT\u001b[0m\u001b[0;34m:\u001b[0m\u001b[0;34m\u001b[0m\u001b[0m\n\u001b[0;32m--> 157\u001b[0;31m             \u001b[0;32mraise\u001b[0m \u001b[0mExecutableNotFound\u001b[0m\u001b[0;34m(\u001b[0m\u001b[0margs\u001b[0m\u001b[0;34m)\u001b[0m\u001b[0;34m\u001b[0m\u001b[0m\n\u001b[0m\u001b[1;32m    158\u001b[0m         \u001b[0;32melse\u001b[0m\u001b[0;34m:\u001b[0m  \u001b[0;31m# pragma: no cover\u001b[0m\u001b[0;34m\u001b[0m\u001b[0m\n\u001b[1;32m    159\u001b[0m             \u001b[0;32mraise\u001b[0m\u001b[0;34m\u001b[0m\u001b[0m\n",
      "\u001b[0;31mExecutableNotFound\u001b[0m: failed to execute ['dot', '-Tsvg'], make sure the Graphviz executables are on your systems' PATH"
     ]
    },
    {
     "data": {
      "text/plain": [
       "<graphviz.files.Source at 0x120a8fba8>"
      ]
     },
     "execution_count": 22,
     "metadata": {},
     "output_type": "execute_result"
    }
   ],
   "source": [
    "import graphviz\n",
    "from sklearn.tree import export_graphviz\n",
    "\n",
    "def graph_tree(tree):\n",
    "    graph_data = export_graphviz(\n",
    "        tree, \n",
    "        out_file=None, \n",
    "        feature_names=['agency_type', 'state', 'year', 'month', 'crime_type',\n",
    "                    'victim_sex', 'victim_age', 'victim_race', 'weapon'],\n",
    "        class_names=[' Not solved', 'Solved'],\n",
    "        filled=True, \n",
    "        rounded=True,  \n",
    "        special_characters=True,\n",
    "    )\n",
    "    graph = graphviz.Source(graph_data)  \n",
    "    # graph.render('rendered_tree')\n",
    "    return graph\n",
    "\n",
    "graph_tree(dt_classifier)"
   ]
  },
  {
   "cell_type": "markdown",
   "metadata": {},
   "source": [
    "## Feature importances"
   ]
  },
  {
   "cell_type": "code",
   "execution_count": 23,
   "metadata": {},
   "outputs": [
    {
     "data": {
      "text/plain": [
       "<BarContainer object of 9 artists>"
      ]
     },
     "execution_count": 23,
     "metadata": {},
     "output_type": "execute_result"
    },
    {
     "data": {
      "image/png": "[encoded data removed]",
      "text/plain": [
       "<Figure size 432x288 with 1 Axes>"
      ]
     },
     "metadata": {},
     "output_type": "display_data"
    }
   ],
   "source": [
    "feature_importances = dt_classifier. feature_importances_\n",
    "\n",
    "plt.xticks(rotation='vertical')\n",
    "plt.bar(x=['agency_type', 'state', 'year', 'month', 'crime_type', 'victim_sex', \n",
    "           'victim_age', 'victim_race', 'weapon'], height=feature_importances)"
   ]
  },
  {
   "cell_type": "markdown",
   "metadata": {},
   "source": [
    "## Conclusions\n",
    "The model is giving an extremely big importance to the 'year' variable, followed from afar by the 'state' variable. We don't know how good is this situation. We tried to use a scaler to 'normalize' the values for the year (pretty higher than the other variables) but the result was the same.\n",
    "\n",
    "Related to the precission metric, the model achieved a better score than the Logistic Regression (**0.75** for test and validation). \n",
    "\n",
    "This score was achieved with a **max_depth** of 15. We choose that number after trying with many and seeing that: **1)** a lower depth causes worst scores and **2)** a bigger depth causes overfitting (only improves predictions on train)"
   ]
  },
  {
   "cell_type": "markdown",
   "metadata": {},
   "source": [
    "# 3rd Model: Neural Network"
   ]
  },
  {
   "cell_type": "code",
   "execution_count": 24,
   "metadata": {},
   "outputs": [],
   "source": [
    "from keras import optimizers\n",
    "from keras.models import Sequential\n",
    "from keras.layers import Dense, Activation, Input, Dropout\n",
    "from sklearn.preprocessing import StandardScaler"
   ]
  },
  {
   "cell_type": "code",
   "execution_count": 35,
   "metadata": {},
   "outputs": [],
   "source": [
    "nn_model_1 = Sequential([   \n",
    "    Dense(500, input_shape=(84,)),\n",
    "    Activation('tanh'),\n",
    "    \n",
    "    Dropout(0.2),\n",
    "\n",
    "    Dense(500),\n",
    "    Activation('tanh'),\n",
    "    \n",
    "    Dense(1),\n",
    "    Activation('sigmoid'),\n",
    "])"
   ]
  },
  {
   "cell_type": "code",
   "execution_count": 36,
   "metadata": {},
   "outputs": [],
   "source": [
    "nn_model_1.compile(\n",
    "    optimizer='adam',\n",
    "    loss='binary_crossentropy',\n",
    "    metrics=['accuracy',],\n",
    ")"
   ]
  },
  {
   "cell_type": "code",
   "execution_count": 37,
   "metadata": {},
   "outputs": [
    {
     "name": "stdout",
     "output_type": "stream",
     "text": [
      "Train on 210115 samples, validate on 104897 samples\n",
      "Epoch 1/20\n",
      "210115/210115 [==============================] - 19s 88us/step - loss: 0.4955 - acc: 0.7551 - val_loss: 0.5088 - val_acc: 0.7467\n",
      "Epoch 2/20\n",
      "210115/210115 [==============================] - 18s 84us/step - loss: 0.4413 - acc: 0.7833 - val_loss: 0.5082 - val_acc: 0.7525\n",
      "Epoch 3/20\n",
      "210115/210115 [==============================] - 17s 80us/step - loss: 0.4290 - acc: 0.7863 - val_loss: 0.4958 - val_acc: 0.7527\n",
      "Epoch 4/20\n",
      "210115/210115 [==============================] - 18s 84us/step - loss: 0.4214 - acc: 0.7881 - val_loss: 0.5084 - val_acc: 0.7454\n",
      "Epoch 5/20\n",
      "210115/210115 [==============================] - 18s 84us/step - loss: 0.4138 - acc: 0.7911 - val_loss: 0.5101 - val_acc: 0.7540\n",
      "Epoch 6/20\n",
      "210115/210115 [==============================] - 17s 79us/step - loss: 0.4070 - acc: 0.7941 - val_loss: 0.5142 - val_acc: 0.7508\n",
      "Epoch 7/20\n",
      "210115/210115 [==============================] - 18s 83us/step - loss: 0.4027 - acc: 0.7954 - val_loss: 0.5153 - val_acc: 0.7458\n",
      "Epoch 8/20\n",
      "210115/210115 [==============================] - 18s 84us/step - loss: 0.3997 - acc: 0.7970 - val_loss: 0.5221 - val_acc: 0.7484\n",
      "Epoch 9/20\n",
      "210115/210115 [==============================] - 18s 84us/step - loss: 0.3973 - acc: 0.7977 - val_loss: 0.5162 - val_acc: 0.7494\n",
      "Epoch 10/20\n",
      "210115/210115 [==============================] - 18s 86us/step - loss: 0.3953 - acc: 0.7987 - val_loss: 0.5311 - val_acc: 0.7343\n",
      "Epoch 11/20\n",
      "210115/210115 [==============================] - 18s 84us/step - loss: 0.3940 - acc: 0.7991 - val_loss: 0.5267 - val_acc: 0.7456\n",
      "Epoch 12/20\n",
      "210115/210115 [==============================] - 18s 86us/step - loss: 0.3928 - acc: 0.7997 - val_loss: 0.5364 - val_acc: 0.7480\n",
      "Epoch 13/20\n",
      "210115/210115 [==============================] - 18s 84us/step - loss: 0.3911 - acc: 0.8010 - val_loss: 0.5459 - val_acc: 0.7531\n",
      "Epoch 14/20\n",
      "210115/210115 [==============================] - 18s 85us/step - loss: 0.3895 - acc: 0.8022 - val_loss: 0.5383 - val_acc: 0.7509\n",
      "Epoch 15/20\n",
      "210115/210115 [==============================] - 18s 85us/step - loss: 0.3905 - acc: 0.8001 - val_loss: 0.5476 - val_acc: 0.7469\n",
      "Epoch 16/20\n",
      "210115/210115 [==============================] - 18s 84us/step - loss: 0.3889 - acc: 0.8014 - val_loss: 0.5492 - val_acc: 0.7388\n",
      "Epoch 17/20\n",
      "210115/210115 [==============================] - 18s 86us/step - loss: 0.3877 - acc: 0.8023 - val_loss: 0.5603 - val_acc: 0.7293\n",
      "Epoch 18/20\n",
      "210115/210115 [==============================] - 18s 84us/step - loss: 0.3875 - acc: 0.8020 - val_loss: 0.5533 - val_acc: 0.7447\n",
      "Epoch 19/20\n",
      "210115/210115 [==============================] - 18s 84us/step - loss: 0.3860 - acc: 0.8025 - val_loss: 0.5598 - val_acc: 0.7344\n",
      "Epoch 20/20\n",
      "210115/210115 [==============================] - 18s 86us/step - loss: 0.3849 - acc: 0.8038 - val_loss: 0.5565 - val_acc: 0.7425\n"
     ]
    }
   ],
   "source": [
    "scaler = StandardScaler()\n",
    "inputs, outputs = lr_extract_inputs_outputs(train)\n",
    "inputs_test, outputs_test = lr_extract_inputs_outputs(test)\n",
    "history = nn_model_1.fit(\n",
    "    inputs,\n",
    "    outputs,\n",
    "    epochs=20,\n",
    "    batch_size=200,\n",
    "    validation_data=(\n",
    "        inputs_test,\n",
    "        outputs_test,\n",
    "    )\n",
    ")"
   ]
  },
  {
   "cell_type": "code",
   "execution_count": 38,
   "metadata": {},
   "outputs": [
    {
     "name": "stdout",
     "output_type": "stream",
     "text": [
      "Model evaluation on dataset:train\n",
      "Accuracy score: 0.8089760369321563\n",
      "Precision score: 0.7778779023252289\n"
     ]
    },
    {
     "data": {
      "image/png": "[encoded data removed]",
      "text/plain": [
       "<Figure size 216x288 with 1 Axes>"
      ]
     },
     "metadata": {},
     "output_type": "display_data"
    },
    {
     "name": "stdout",
     "output_type": "stream",
     "text": [
      "Model evaluation on dataset:test\n",
      "Accuracy score: 0.7424711860205726\n",
      "Precision score: 0.7224786324786325\n"
     ]
    },
    {
     "data": {
      "image/png": "[encoded data removed]",
      "text/plain": [
       "<Figure size 216x288 with 1 Axes>"
      ]
     },
     "metadata": {},
     "output_type": "display_data"
    },
    {
     "name": "stdout",
     "output_type": "stream",
     "text": [
      "Model evaluation on dataset:validation\n",
      "Accuracy score: 0.719254693830965\n",
      "Precision score: 0.6963144226927687\n"
     ]
    },
    {
     "data": {
      "image/png": "[encoded data removed]",
      "text/plain": [
       "<Figure size 216x288 with 1 Axes>"
      ]
     },
     "metadata": {},
     "output_type": "display_data"
    }
   ],
   "source": [
    "evaluate_model(nn_model_1, lr_extract_inputs_outputs, include_validation=True)"
   ]
  },
  {
   "cell_type": "markdown",
   "metadata": {},
   "source": [
    "## Conclusions\n",
    "The results of the neural network are in between the previous models we trained. We tried tuning the network in some aspects (dropout layer, optimizer, learning rate, etc) but didn't get any rewarding changes at all. The model overfits too fast. Keeping the current values to on edge of overfiting got us an accuracy measure on test that won't go up 71% with a precission of 69%."
   ]
  },
  {
   "cell_type": "code",
   "execution_count": 25,
   "metadata": {},
   "outputs": [],
   "source": [
    "nn_model = Sequential([   \n",
    "    Dense(500, input_shape=(84,)),\n",
    "    Activation('tanh'),\n",
    "    \n",
    "    Dropout(0.2),\n",
    "\n",
    "    Dense(500),\n",
    "    Activation('tanh'),\n",
    "    \n",
    "    Dense(1),\n",
    "    Activation('sigmoid'),\n",
    "])"
   ]
  },
  {
   "cell_type": "code",
   "execution_count": 26,
   "metadata": {},
   "outputs": [],
   "source": [
    "nn_model.compile(\n",
    "    optimizer='adam',\n",
    "    loss='binary_crossentropy',\n",
    "    metrics=['accuracy',],\n",
    ")"
   ]
  },
  {
   "cell_type": "code",
   "execution_count": 32,
   "metadata": {},
   "outputs": [
    {
     "name": "stdout",
     "output_type": "stream",
     "text": [
      "Train on 210115 samples, validate on 104897 samples\n",
      "Epoch 1/300\n",
      "210115/210115 [==============================] - 17s 80us/step - loss: 0.3954 - acc: 0.7981 - val_loss: 0.5248 - val_acc: 0.7492\n",
      "Epoch 2/300\n",
      "210115/210115 [==============================] - 17s 79us/step - loss: 0.3941 - acc: 0.7985 - val_loss: 0.5316 - val_acc: 0.7464\n",
      "Epoch 3/300\n",
      "210115/210115 [==============================] - 17s 80us/step - loss: 0.3920 - acc: 0.7999 - val_loss: 0.5378 - val_acc: 0.7449\n",
      "Epoch 4/300\n",
      "210115/210115 [==============================] - 17s 81us/step - loss: 0.3917 - acc: 0.7996 - val_loss: 0.5490 - val_acc: 0.7368\n",
      "Epoch 5/300\n",
      "210115/210115 [==============================] - 18s 84us/step - loss: 0.3898 - acc: 0.8014 - val_loss: 0.5392 - val_acc: 0.7513\n",
      "Epoch 6/300\n",
      "210115/210115 [==============================] - 18s 85us/step - loss: 0.3901 - acc: 0.8008 - val_loss: 0.5481 - val_acc: 0.7508\n",
      "Epoch 7/300\n",
      "210115/210115 [==============================] - 17s 79us/step - loss: 0.3883 - acc: 0.8018 - val_loss: 0.5483 - val_acc: 0.7449\n",
      "Epoch 8/300\n",
      "210115/210115 [==============================] - 18s 84us/step - loss: 0.3873 - acc: 0.8024 - val_loss: 0.5424 - val_acc: 0.7517\n",
      "Epoch 9/300\n",
      "210115/210115 [==============================] - 17s 82us/step - loss: 0.3870 - acc: 0.8023 - val_loss: 0.5544 - val_acc: 0.7498\n",
      "Epoch 10/300\n",
      "210115/210115 [==============================] - 18s 84us/step - loss: 0.3852 - acc: 0.8033 - val_loss: 0.5504 - val_acc: 0.7451\n",
      "Epoch 11/300\n",
      "210115/210115 [==============================] - 17s 82us/step - loss: 0.3855 - acc: 0.8030 - val_loss: 0.5626 - val_acc: 0.7365\n",
      "Epoch 12/300\n",
      "210115/210115 [==============================] - 17s 83us/step - loss: 0.3846 - acc: 0.8031 - val_loss: 0.5679 - val_acc: 0.7491\n",
      "Epoch 13/300\n",
      "210115/210115 [==============================] - 18s 84us/step - loss: 0.3836 - acc: 0.8047 - val_loss: 0.5729 - val_acc: 0.7352\n",
      "Epoch 14/300\n",
      "210115/210115 [==============================] - 17s 83us/step - loss: 0.3827 - acc: 0.8046 - val_loss: 0.5712 - val_acc: 0.7376\n",
      "Epoch 15/300\n",
      "210115/210115 [==============================] - 17s 83us/step - loss: 0.3824 - acc: 0.8051 - val_loss: 0.5706 - val_acc: 0.7471\n",
      "Epoch 16/300\n",
      "210115/210115 [==============================] - 18s 84us/step - loss: 0.3814 - acc: 0.8052 - val_loss: 0.5709 - val_acc: 0.7432\n",
      "Epoch 17/300\n",
      "210115/210115 [==============================] - 17s 83us/step - loss: 0.3816 - acc: 0.8046 - val_loss: 0.5713 - val_acc: 0.7453\n",
      "Epoch 18/300\n",
      "210115/210115 [==============================] - 17s 83us/step - loss: 0.3805 - acc: 0.8056 - val_loss: 0.5676 - val_acc: 0.7451\n",
      "Epoch 19/300\n",
      "210115/210115 [==============================] - 17s 83us/step - loss: 0.3804 - acc: 0.8058 - val_loss: 0.5806 - val_acc: 0.7441\n",
      "Epoch 20/300\n",
      "210115/210115 [==============================] - 17s 83us/step - loss: 0.3790 - acc: 0.8059 - val_loss: 0.5826 - val_acc: 0.7440\n",
      "Epoch 21/300\n",
      "210115/210115 [==============================] - 18s 85us/step - loss: 0.3786 - acc: 0.8063 - val_loss: 0.5760 - val_acc: 0.7479\n",
      "Epoch 22/300\n",
      "210115/210115 [==============================] - 18s 85us/step - loss: 0.3782 - acc: 0.8065 - val_loss: 0.5935 - val_acc: 0.7436\n",
      "Epoch 23/300\n",
      "210115/210115 [==============================] - 18s 84us/step - loss: 0.3780 - acc: 0.8066 - val_loss: 0.5941 - val_acc: 0.7475\n",
      "Epoch 24/300\n",
      "210115/210115 [==============================] - 17s 83us/step - loss: 0.3770 - acc: 0.8075 - val_loss: 0.5882 - val_acc: 0.7459\n",
      "Epoch 25/300\n",
      "210115/210115 [==============================] - 18s 84us/step - loss: 0.3764 - acc: 0.8081 - val_loss: 0.5911 - val_acc: 0.7405\n",
      "Epoch 26/300\n",
      "210115/210115 [==============================] - 19s 90us/step - loss: 0.3754 - acc: 0.8085 - val_loss: 0.5927 - val_acc: 0.7479\n",
      "Epoch 27/300\n",
      "210115/210115 [==============================] - 17s 83us/step - loss: 0.3751 - acc: 0.8085 - val_loss: 0.5943 - val_acc: 0.7415\n",
      "Epoch 28/300\n",
      "210115/210115 [==============================] - 17s 83us/step - loss: 0.3744 - acc: 0.8083 - val_loss: 0.5940 - val_acc: 0.7474\n",
      "Epoch 29/300\n",
      "210115/210115 [==============================] - 17s 83us/step - loss: 0.3739 - acc: 0.8083 - val_loss: 0.5952 - val_acc: 0.7445\n",
      "Epoch 30/300\n",
      "210115/210115 [==============================] - 18s 84us/step - loss: 0.3730 - acc: 0.8094 - val_loss: 0.6003 - val_acc: 0.7481\n",
      "Epoch 31/300\n",
      "210115/210115 [==============================] - 18s 84us/step - loss: 0.3725 - acc: 0.8087 - val_loss: 0.6093 - val_acc: 0.7459\n",
      "Epoch 32/300\n",
      "210115/210115 [==============================] - 18s 84us/step - loss: 0.3723 - acc: 0.8101 - val_loss: 0.6039 - val_acc: 0.7348\n",
      "Epoch 33/300\n",
      "210115/210115 [==============================] - 18s 87us/step - loss: 0.3719 - acc: 0.8097 - val_loss: 0.6104 - val_acc: 0.7299\n",
      "Epoch 34/300\n",
      "210115/210115 [==============================] - 18s 84us/step - loss: 0.3712 - acc: 0.8098 - val_loss: 0.6083 - val_acc: 0.7449\n",
      "Epoch 35/300\n",
      "210115/210115 [==============================] - 18s 88us/step - loss: 0.3702 - acc: 0.8113 - val_loss: 0.6133 - val_acc: 0.7379\n",
      "Epoch 36/300\n",
      "210115/210115 [==============================] - 21s 102us/step - loss: 0.3694 - acc: 0.8111 - val_loss: 0.6069 - val_acc: 0.7410\n",
      "Epoch 37/300\n",
      "210115/210115 [==============================] - 18s 85us/step - loss: 0.3695 - acc: 0.8116 - val_loss: 0.6118 - val_acc: 0.7393\n",
      "Epoch 38/300\n",
      "210115/210115 [==============================] - 18s 86us/step - loss: 0.3682 - acc: 0.8110 - val_loss: 0.6194 - val_acc: 0.7415\n",
      "Epoch 39/300\n",
      "210115/210115 [==============================] - 19s 88us/step - loss: 0.3689 - acc: 0.8107 - val_loss: 0.6289 - val_acc: 0.7292\n",
      "Epoch 40/300\n",
      "210115/210115 [==============================] - 18s 86us/step - loss: 0.3673 - acc: 0.8127 - val_loss: 0.6141 - val_acc: 0.7368\n",
      "Epoch 41/300\n",
      "210115/210115 [==============================] - 18s 85us/step - loss: 0.3679 - acc: 0.8122 - val_loss: 0.6245 - val_acc: 0.7384\n",
      "Epoch 42/300\n",
      "210115/210115 [==============================] - 18s 84us/step - loss: 0.3666 - acc: 0.8124 - val_loss: 0.6244 - val_acc: 0.7433\n",
      "Epoch 43/300\n",
      "210115/210115 [==============================] - 18s 84us/step - loss: 0.3662 - acc: 0.8126 - val_loss: 0.6236 - val_acc: 0.7376\n",
      "Epoch 44/300\n",
      "210115/210115 [==============================] - 18s 84us/step - loss: 0.3664 - acc: 0.8119 - val_loss: 0.6260 - val_acc: 0.7376\n",
      "Epoch 45/300\n",
      "210115/210115 [==============================] - 18s 85us/step - loss: 0.3659 - acc: 0.8124 - val_loss: 0.6324 - val_acc: 0.7315\n",
      "Epoch 46/300\n",
      "210115/210115 [==============================] - 18s 85us/step - loss: 0.3648 - acc: 0.8136 - val_loss: 0.6393 - val_acc: 0.7262\n",
      "Epoch 47/300\n",
      "210115/210115 [==============================] - 18s 84us/step - loss: 0.3647 - acc: 0.8133 - val_loss: 0.6513 - val_acc: 0.7406\n",
      "Epoch 48/300\n",
      "210115/210115 [==============================] - 18s 86us/step - loss: 0.3650 - acc: 0.8137 - val_loss: 0.6426 - val_acc: 0.7401\n",
      "Epoch 49/300\n",
      "210115/210115 [==============================] - 18s 85us/step - loss: 0.3636 - acc: 0.8143 - val_loss: 0.6370 - val_acc: 0.7350\n",
      "Epoch 50/300\n",
      "210115/210115 [==============================] - 18s 85us/step - loss: 0.3639 - acc: 0.8139 - val_loss: 0.6503 - val_acc: 0.7326\n",
      "Epoch 51/300\n",
      "210115/210115 [==============================] - 19s 88us/step - loss: 0.3630 - acc: 0.8136 - val_loss: 0.6498 - val_acc: 0.7391\n",
      "Epoch 52/300\n",
      "210115/210115 [==============================] - 18s 86us/step - loss: 0.3629 - acc: 0.8142 - val_loss: 0.6560 - val_acc: 0.7298\n",
      "Epoch 53/300\n",
      "210115/210115 [==============================] - 18s 86us/step - loss: 0.3620 - acc: 0.8146 - val_loss: 0.6499 - val_acc: 0.7284\n",
      "Epoch 54/300\n",
      "210115/210115 [==============================] - 20s 93us/step - loss: 0.3619 - acc: 0.8141 - val_loss: 0.6537 - val_acc: 0.7393\n",
      "Epoch 55/300\n",
      "210115/210115 [==============================] - 19s 90us/step - loss: 0.3616 - acc: 0.8148 - val_loss: 0.6487 - val_acc: 0.7326\n",
      "Epoch 56/300\n",
      "210115/210115 [==============================] - 18s 88us/step - loss: 0.3604 - acc: 0.8159 - val_loss: 0.6513 - val_acc: 0.7368\n",
      "Epoch 57/300\n",
      "210115/210115 [==============================] - 18s 86us/step - loss: 0.3610 - acc: 0.8152 - val_loss: 0.6586 - val_acc: 0.7319\n",
      "Epoch 58/300\n"
     ]
    },
    {
     "name": "stdout",
     "output_type": "stream",
     "text": [
      "210115/210115 [==============================] - 17s 81us/step - loss: 0.3607 - acc: 0.8155 - val_loss: 0.6558 - val_acc: 0.7313\n",
      "Epoch 59/300\n",
      "210115/210115 [==============================] - 17s 79us/step - loss: 0.3603 - acc: 0.8150 - val_loss: 0.6705 - val_acc: 0.7353\n",
      "Epoch 60/300\n",
      "210115/210115 [==============================] - 17s 79us/step - loss: 0.3598 - acc: 0.8152 - val_loss: 0.6701 - val_acc: 0.7280\n",
      "Epoch 61/300\n",
      "210115/210115 [==============================] - 17s 79us/step - loss: 0.3591 - acc: 0.8163 - val_loss: 0.6668 - val_acc: 0.7300\n",
      "Epoch 62/300\n",
      "210115/210115 [==============================] - 17s 79us/step - loss: 0.3591 - acc: 0.8160 - val_loss: 0.6737 - val_acc: 0.7322\n",
      "Epoch 63/300\n",
      "210115/210115 [==============================] - 17s 79us/step - loss: 0.3580 - acc: 0.8163 - val_loss: 0.6733 - val_acc: 0.7305\n",
      "Epoch 64/300\n",
      "210115/210115 [==============================] - 17s 79us/step - loss: 0.3588 - acc: 0.8162 - val_loss: 0.6695 - val_acc: 0.7318\n",
      "Epoch 65/300\n",
      "210115/210115 [==============================] - 17s 79us/step - loss: 0.3575 - acc: 0.8167 - val_loss: 0.6836 - val_acc: 0.7366\n",
      "Epoch 66/300\n",
      "210115/210115 [==============================] - 17s 79us/step - loss: 0.3577 - acc: 0.8169 - val_loss: 0.6768 - val_acc: 0.7282\n",
      "Epoch 67/300\n",
      "210115/210115 [==============================] - 17s 80us/step - loss: 0.3575 - acc: 0.8169 - val_loss: 0.6734 - val_acc: 0.7332\n",
      "Epoch 68/300\n",
      "210115/210115 [==============================] - 17s 80us/step - loss: 0.3568 - acc: 0.8171 - val_loss: 0.6824 - val_acc: 0.7251\n",
      "Epoch 69/300\n",
      "210115/210115 [==============================] - 17s 80us/step - loss: 0.3553 - acc: 0.8188 - val_loss: 0.6749 - val_acc: 0.7250\n",
      "Epoch 70/300\n",
      "210115/210115 [==============================] - 17s 80us/step - loss: 0.3558 - acc: 0.8176 - val_loss: 0.6770 - val_acc: 0.7247\n",
      "Epoch 71/300\n",
      "210115/210115 [==============================] - 18s 83us/step - loss: 0.3559 - acc: 0.8177 - val_loss: 0.6896 - val_acc: 0.7276\n",
      "Epoch 72/300\n",
      "210115/210115 [==============================] - 18s 86us/step - loss: 0.3558 - acc: 0.8177 - val_loss: 0.6832 - val_acc: 0.7306\n",
      "Epoch 73/300\n",
      "210115/210115 [==============================] - 18s 84us/step - loss: 0.3558 - acc: 0.8176 - val_loss: 0.6813 - val_acc: 0.7300\n",
      "Epoch 74/300\n",
      "210115/210115 [==============================] - 18s 83us/step - loss: 0.3557 - acc: 0.8180 - val_loss: 0.6777 - val_acc: 0.7251\n",
      "Epoch 75/300\n",
      "210115/210115 [==============================] - 17s 82us/step - loss: 0.3551 - acc: 0.8182 - val_loss: 0.7028 - val_acc: 0.7301\n",
      "Epoch 76/300\n",
      "210115/210115 [==============================] - 17s 83us/step - loss: 0.3546 - acc: 0.8180 - val_loss: 0.6853 - val_acc: 0.7278\n",
      "Epoch 77/300\n",
      "210115/210115 [==============================] - 18s 85us/step - loss: 0.3538 - acc: 0.8184 - val_loss: 0.6893 - val_acc: 0.7269\n",
      "Epoch 78/300\n",
      "210115/210115 [==============================] - 18s 84us/step - loss: 0.3540 - acc: 0.8179 - val_loss: 0.6845 - val_acc: 0.7308\n",
      "Epoch 79/300\n",
      "210115/210115 [==============================] - 18s 85us/step - loss: 0.3533 - acc: 0.8195 - val_loss: 0.6870 - val_acc: 0.7187\n",
      "Epoch 80/300\n",
      "210115/210115 [==============================] - 18s 83us/step - loss: 0.3527 - acc: 0.8199 - val_loss: 0.6974 - val_acc: 0.7200\n",
      "Epoch 81/300\n",
      "210115/210115 [==============================] - 17s 83us/step - loss: 0.3523 - acc: 0.8192 - val_loss: 0.6938 - val_acc: 0.7259\n",
      "Epoch 82/300\n",
      "210115/210115 [==============================] - 18s 83us/step - loss: 0.3532 - acc: 0.8192 - val_loss: 0.6967 - val_acc: 0.7230\n",
      "Epoch 83/300\n",
      "210115/210115 [==============================] - 17s 83us/step - loss: 0.3528 - acc: 0.8191 - val_loss: 0.7000 - val_acc: 0.7253\n",
      "Epoch 84/300\n",
      "210115/210115 [==============================] - 18s 84us/step - loss: 0.3520 - acc: 0.8197 - val_loss: 0.7157 - val_acc: 0.7232\n",
      "Epoch 85/300\n",
      "210115/210115 [==============================] - 18s 83us/step - loss: 0.3517 - acc: 0.8202 - val_loss: 0.7216 - val_acc: 0.7127\n",
      "Epoch 86/300\n",
      "210115/210115 [==============================] - 18s 83us/step - loss: 0.3515 - acc: 0.8209 - val_loss: 0.7130 - val_acc: 0.7214\n",
      "Epoch 87/300\n",
      "210115/210115 [==============================] - 18s 84us/step - loss: 0.3515 - acc: 0.8191 - val_loss: 0.7094 - val_acc: 0.7191\n",
      "Epoch 88/300\n",
      "210115/210115 [==============================] - 18s 83us/step - loss: 0.3512 - acc: 0.8197 - val_loss: 0.7174 - val_acc: 0.7260\n",
      "Epoch 89/300\n",
      "210115/210115 [==============================] - 18s 84us/step - loss: 0.3513 - acc: 0.8200 - val_loss: 0.7135 - val_acc: 0.7211\n",
      "Epoch 90/300\n",
      "210115/210115 [==============================] - 18s 85us/step - loss: 0.3506 - acc: 0.8201 - val_loss: 0.7142 - val_acc: 0.7193\n",
      "Epoch 91/300\n",
      "210115/210115 [==============================] - 18s 86us/step - loss: 0.3504 - acc: 0.8209 - val_loss: 0.7149 - val_acc: 0.7263\n",
      "Epoch 92/300\n",
      "210115/210115 [==============================] - 21s 100us/step - loss: 0.3503 - acc: 0.8203 - val_loss: 0.7150 - val_acc: 0.7305\n",
      "Epoch 93/300\n",
      "210115/210115 [==============================] - 18s 86us/step - loss: 0.3504 - acc: 0.8209 - val_loss: 0.7210 - val_acc: 0.7324\n",
      "Epoch 94/300\n",
      "210115/210115 [==============================] - 18s 84us/step - loss: 0.3486 - acc: 0.8214 - val_loss: 0.7198 - val_acc: 0.7300\n",
      "Epoch 95/300\n",
      "210115/210115 [==============================] - 18s 84us/step - loss: 0.3506 - acc: 0.8204 - val_loss: 0.7228 - val_acc: 0.7138\n",
      "Epoch 96/300\n",
      "210115/210115 [==============================] - 18s 85us/step - loss: 0.3496 - acc: 0.8209 - val_loss: 0.7188 - val_acc: 0.7252\n",
      "Epoch 97/300\n",
      "210115/210115 [==============================] - 18s 86us/step - loss: 0.3499 - acc: 0.8209 - val_loss: 0.7175 - val_acc: 0.7210\n",
      "Epoch 98/300\n",
      "210115/210115 [==============================] - 18s 84us/step - loss: 0.3486 - acc: 0.8218 - val_loss: 0.7260 - val_acc: 0.7334\n",
      "Epoch 99/300\n",
      "210115/210115 [==============================] - 18s 84us/step - loss: 0.3487 - acc: 0.8218 - val_loss: 0.7173 - val_acc: 0.7284\n",
      "Epoch 100/300\n",
      "210115/210115 [==============================] - 18s 85us/step - loss: 0.3490 - acc: 0.8217 - val_loss: 0.7121 - val_acc: 0.7256\n",
      "Epoch 101/300\n",
      "210115/210115 [==============================] - 18s 86us/step - loss: 0.3474 - acc: 0.8218 - val_loss: 0.7297 - val_acc: 0.7205\n",
      "Epoch 102/300\n",
      "210115/210115 [==============================] - 18s 87us/step - loss: 0.3479 - acc: 0.8217 - val_loss: 0.7207 - val_acc: 0.7242\n",
      "Epoch 103/300\n",
      "210115/210115 [==============================] - 18s 85us/step - loss: 0.3480 - acc: 0.8215 - val_loss: 0.7350 - val_acc: 0.7068\n",
      "Epoch 104/300\n",
      "210115/210115 [==============================] - 18s 85us/step - loss: 0.3474 - acc: 0.8221 - val_loss: 0.7343 - val_acc: 0.7255\n",
      "Epoch 105/300\n",
      "210115/210115 [==============================] - 18s 85us/step - loss: 0.3475 - acc: 0.8221 - val_loss: 0.7221 - val_acc: 0.7237\n",
      "Epoch 106/300\n",
      "210115/210115 [==============================] - 18s 85us/step - loss: 0.3477 - acc: 0.8216 - val_loss: 0.7195 - val_acc: 0.7223\n",
      "Epoch 107/300\n",
      "210115/210115 [==============================] - 16s 74us/step - loss: 0.3466 - acc: 0.8221 - val_loss: 0.7298 - val_acc: 0.7207\n",
      "Epoch 108/300\n",
      "210115/210115 [==============================] - 132s 627us/step - loss: 0.3468 - acc: 0.8227 - val_loss: 0.7350 - val_acc: 0.7281\n",
      "Epoch 109/300\n",
      "210115/210115 [==============================] - 19s 89us/step - loss: 0.3463 - acc: 0.8225 - val_loss: 0.7243 - val_acc: 0.7194\n",
      "Epoch 110/300\n",
      "210115/210115 [==============================] - 19s 89us/step - loss: 0.3468 - acc: 0.8225 - val_loss: 0.7333 - val_acc: 0.7149\n",
      "Epoch 111/300\n",
      "210115/210115 [==============================] - 18s 85us/step - loss: 0.3461 - acc: 0.8229 - val_loss: 0.7424 - val_acc: 0.7179\n",
      "Epoch 112/300\n",
      "210115/210115 [==============================] - 18s 85us/step - loss: 0.3452 - acc: 0.8235 - val_loss: 0.7327 - val_acc: 0.7210\n",
      "Epoch 113/300\n",
      "210115/210115 [==============================] - 18s 86us/step - loss: 0.3456 - acc: 0.8231 - val_loss: 0.7363 - val_acc: 0.7234\n",
      "Epoch 114/300\n",
      "210115/210115 [==============================] - 18s 86us/step - loss: 0.3453 - acc: 0.8223 - val_loss: 0.7340 - val_acc: 0.7228\n",
      "Epoch 115/300\n"
     ]
    },
    {
     "name": "stdout",
     "output_type": "stream",
     "text": [
      "210115/210115 [==============================] - 17s 82us/step - loss: 0.3456 - acc: 0.8229 - val_loss: 0.7404 - val_acc: 0.7176\n",
      "Epoch 116/300\n",
      "210115/210115 [==============================] - 17s 80us/step - loss: 0.3451 - acc: 0.8230 - val_loss: 0.7423 - val_acc: 0.7239\n",
      "Epoch 117/300\n",
      "210115/210115 [==============================] - 17s 81us/step - loss: 0.3442 - acc: 0.8242 - val_loss: 0.7398 - val_acc: 0.7229\n",
      "Epoch 118/300\n",
      "210115/210115 [==============================] - 18s 84us/step - loss: 0.3452 - acc: 0.8234 - val_loss: 0.7336 - val_acc: 0.7191\n",
      "Epoch 119/300\n",
      "210115/210115 [==============================] - 17s 81us/step - loss: 0.3442 - acc: 0.8237 - val_loss: 0.7488 - val_acc: 0.7236\n",
      "Epoch 120/300\n",
      "210115/210115 [==============================] - 17s 83us/step - loss: 0.3444 - acc: 0.8238 - val_loss: 0.7414 - val_acc: 0.7171\n",
      "Epoch 121/300\n",
      "210115/210115 [==============================] - 17s 83us/step - loss: 0.3440 - acc: 0.8236 - val_loss: 0.7551 - val_acc: 0.7079\n",
      "Epoch 122/300\n",
      "210115/210115 [==============================] - 17s 83us/step - loss: 0.3443 - acc: 0.8238 - val_loss: 0.7417 - val_acc: 0.7206\n",
      "Epoch 123/300\n",
      "210115/210115 [==============================] - 17s 82us/step - loss: 0.3434 - acc: 0.8240 - val_loss: 0.7531 - val_acc: 0.7216\n",
      "Epoch 124/300\n",
      "210115/210115 [==============================] - 17s 81us/step - loss: 0.3434 - acc: 0.8240 - val_loss: 0.7454 - val_acc: 0.7210\n",
      "Epoch 125/300\n",
      "210115/210115 [==============================] - 18s 87us/step - loss: 0.3432 - acc: 0.8246 - val_loss: 0.7517 - val_acc: 0.7183\n",
      "Epoch 126/300\n",
      "210115/210115 [==============================] - 17s 83us/step - loss: 0.3431 - acc: 0.8239 - val_loss: 0.7440 - val_acc: 0.7237\n",
      "Epoch 127/300\n",
      "210115/210115 [==============================] - 18s 84us/step - loss: 0.3432 - acc: 0.8239 - val_loss: 0.7552 - val_acc: 0.7176\n",
      "Epoch 128/300\n",
      "210115/210115 [==============================] - 18s 84us/step - loss: 0.3432 - acc: 0.8241 - val_loss: 0.7570 - val_acc: 0.7236\n",
      "Epoch 129/300\n",
      "210115/210115 [==============================] - 18s 83us/step - loss: 0.3424 - acc: 0.8249 - val_loss: 0.7642 - val_acc: 0.7198\n",
      "Epoch 130/300\n",
      "210115/210115 [==============================] - 18s 85us/step - loss: 0.3423 - acc: 0.8249 - val_loss: 0.7563 - val_acc: 0.7124\n",
      "Epoch 131/300\n",
      "210115/210115 [==============================] - 17s 82us/step - loss: 0.3420 - acc: 0.8248 - val_loss: 0.7583 - val_acc: 0.7185\n",
      "Epoch 132/300\n",
      "210115/210115 [==============================] - 17s 83us/step - loss: 0.3429 - acc: 0.8248 - val_loss: 0.7619 - val_acc: 0.7160\n",
      "Epoch 133/300\n",
      "210115/210115 [==============================] - 17s 83us/step - loss: 0.3426 - acc: 0.8253 - val_loss: 0.7456 - val_acc: 0.7216\n",
      "Epoch 134/300\n",
      "210115/210115 [==============================] - 18s 86us/step - loss: 0.3419 - acc: 0.8248 - val_loss: 0.7577 - val_acc: 0.7191\n",
      "Epoch 135/300\n",
      "210115/210115 [==============================] - 18s 85us/step - loss: 0.3409 - acc: 0.8257 - val_loss: 0.7600 - val_acc: 0.7121\n",
      "Epoch 136/300\n",
      "210115/210115 [==============================] - 18s 83us/step - loss: 0.3419 - acc: 0.8250 - val_loss: 0.7645 - val_acc: 0.7193\n",
      "Epoch 137/300\n",
      "210115/210115 [==============================] - 17s 83us/step - loss: 0.3413 - acc: 0.8246 - val_loss: 0.7819 - val_acc: 0.7211\n",
      "Epoch 138/300\n",
      "210115/210115 [==============================] - 19s 90us/step - loss: 0.3418 - acc: 0.8246 - val_loss: 0.7700 - val_acc: 0.7180\n",
      "Epoch 139/300\n",
      "210115/210115 [==============================] - 18s 84us/step - loss: 0.3417 - acc: 0.8247 - val_loss: 0.7607 - val_acc: 0.7189\n",
      "Epoch 140/300\n",
      "210115/210115 [==============================] - 18s 87us/step - loss: 0.3410 - acc: 0.8255 - val_loss: 0.7623 - val_acc: 0.7200\n",
      "Epoch 141/300\n",
      "210115/210115 [==============================] - 17s 82us/step - loss: 0.3412 - acc: 0.8254 - val_loss: 0.7680 - val_acc: 0.7163\n",
      "Epoch 142/300\n",
      "210115/210115 [==============================] - 18s 85us/step - loss: 0.3408 - acc: 0.8255 - val_loss: 0.7560 - val_acc: 0.7196\n",
      "Epoch 143/300\n",
      "210115/210115 [==============================] - 18s 86us/step - loss: 0.3410 - acc: 0.8250 - val_loss: 0.7646 - val_acc: 0.7181\n",
      "Epoch 144/300\n",
      "210115/210115 [==============================] - 18s 84us/step - loss: 0.3406 - acc: 0.8257 - val_loss: 0.7537 - val_acc: 0.7186\n",
      "Epoch 145/300\n",
      "210115/210115 [==============================] - 22s 102us/step - loss: 0.3398 - acc: 0.8264 - val_loss: 0.7555 - val_acc: 0.7244\n",
      "Epoch 146/300\n",
      "210115/210115 [==============================] - 18s 84us/step - loss: 0.3404 - acc: 0.8266 - val_loss: 0.7665 - val_acc: 0.7176\n",
      "Epoch 147/300\n",
      "210115/210115 [==============================] - 19s 88us/step - loss: 0.3393 - acc: 0.8260 - val_loss: 0.7582 - val_acc: 0.7233\n",
      "Epoch 148/300\n",
      "210115/210115 [==============================] - 18s 85us/step - loss: 0.3405 - acc: 0.8264 - val_loss: 0.7689 - val_acc: 0.7231\n",
      "Epoch 149/300\n",
      "210115/210115 [==============================] - 18s 84us/step - loss: 0.3389 - acc: 0.8272 - val_loss: 0.7751 - val_acc: 0.7204\n",
      "Epoch 150/300\n",
      "210115/210115 [==============================] - 20s 97us/step - loss: 0.3400 - acc: 0.8261 - val_loss: 0.7716 - val_acc: 0.7178\n",
      "Epoch 151/300\n",
      "210115/210115 [==============================] - 18s 85us/step - loss: 0.3399 - acc: 0.8257 - val_loss: 0.7756 - val_acc: 0.7165\n",
      "Epoch 152/300\n",
      "210115/210115 [==============================] - 17s 83us/step - loss: 0.3389 - acc: 0.8273 - val_loss: 0.7742 - val_acc: 0.7089\n",
      "Epoch 153/300\n",
      "210115/210115 [==============================] - 18s 84us/step - loss: 0.3386 - acc: 0.8263 - val_loss: 0.7689 - val_acc: 0.7177\n",
      "Epoch 154/300\n",
      "210115/210115 [==============================] - 18s 86us/step - loss: 0.3393 - acc: 0.8263 - val_loss: 0.7712 - val_acc: 0.7179\n",
      "Epoch 155/300\n",
      "210115/210115 [==============================] - 19s 90us/step - loss: 0.3379 - acc: 0.8263 - val_loss: 0.7738 - val_acc: 0.7147\n",
      "Epoch 156/300\n",
      "210115/210115 [==============================] - 19s 89us/step - loss: 0.3384 - acc: 0.8270 - val_loss: 0.7787 - val_acc: 0.7156\n",
      "Epoch 157/300\n",
      "210115/210115 [==============================] - 18s 84us/step - loss: 0.3384 - acc: 0.8271 - val_loss: 0.7820 - val_acc: 0.7115\n",
      "Epoch 158/300\n",
      "210115/210115 [==============================] - 18s 85us/step - loss: 0.3388 - acc: 0.8266 - val_loss: 0.7741 - val_acc: 0.7147\n",
      "Epoch 159/300\n",
      "210115/210115 [==============================] - 18s 86us/step - loss: 0.3386 - acc: 0.8263 - val_loss: 0.7825 - val_acc: 0.7223\n",
      "Epoch 160/300\n",
      "210115/210115 [==============================] - 18s 86us/step - loss: 0.3382 - acc: 0.8276 - val_loss: 0.7814 - val_acc: 0.7160\n",
      "Epoch 161/300\n",
      "210115/210115 [==============================] - 20s 95us/step - loss: 0.3385 - acc: 0.8271 - val_loss: 0.7888 - val_acc: 0.7127\n",
      "Epoch 162/300\n",
      "210115/210115 [==============================] - 18s 85us/step - loss: 0.3379 - acc: 0.8277 - val_loss: 0.7884 - val_acc: 0.7134\n",
      "Epoch 163/300\n",
      "210115/210115 [==============================] - 19s 88us/step - loss: 0.3378 - acc: 0.8269 - val_loss: 0.7971 - val_acc: 0.7161\n",
      "Epoch 164/300\n",
      "210115/210115 [==============================] - 19s 89us/step - loss: 0.3370 - acc: 0.8278 - val_loss: 0.8045 - val_acc: 0.7121\n",
      "Epoch 165/300\n",
      "210115/210115 [==============================] - 20s 94us/step - loss: 0.3370 - acc: 0.8276 - val_loss: 0.7971 - val_acc: 0.7142\n",
      "Epoch 166/300\n",
      "210115/210115 [==============================] - 19s 88us/step - loss: 0.3372 - acc: 0.8277 - val_loss: 0.7921 - val_acc: 0.7129\n",
      "Epoch 167/300\n",
      "210115/210115 [==============================] - 19s 89us/step - loss: 0.3380 - acc: 0.8272 - val_loss: 0.7962 - val_acc: 0.7128\n",
      "Epoch 168/300\n",
      "210115/210115 [==============================] - 19s 90us/step - loss: 0.3370 - acc: 0.8273 - val_loss: 0.8059 - val_acc: 0.7143\n",
      "Epoch 169/300\n",
      "210115/210115 [==============================] - 17s 79us/step - loss: 0.3374 - acc: 0.8272 - val_loss: 0.8189 - val_acc: 0.7218\n",
      "Epoch 170/300\n",
      "210115/210115 [==============================] - 16s 77us/step - loss: 0.3365 - acc: 0.8285 - val_loss: 0.8074 - val_acc: 0.7065\n",
      "Epoch 171/300\n",
      "210115/210115 [==============================] - 16s 77us/step - loss: 0.3372 - acc: 0.8277 - val_loss: 0.8133 - val_acc: 0.7075\n",
      "Epoch 172/300\n"
     ]
    },
    {
     "name": "stdout",
     "output_type": "stream",
     "text": [
      "210115/210115 [==============================] - 16s 76us/step - loss: 0.3368 - acc: 0.8277 - val_loss: 0.8206 - val_acc: 0.7055\n",
      "Epoch 173/300\n",
      "210115/210115 [==============================] - 16s 76us/step - loss: 0.3357 - acc: 0.8282 - val_loss: 0.8124 - val_acc: 0.7186\n",
      "Epoch 174/300\n",
      "210115/210115 [==============================] - 17s 81us/step - loss: 0.3360 - acc: 0.8284 - val_loss: 0.8146 - val_acc: 0.7070\n",
      "Epoch 175/300\n",
      "210115/210115 [==============================] - 17s 83us/step - loss: 0.3354 - acc: 0.8281 - val_loss: 0.8168 - val_acc: 0.7143\n",
      "Epoch 176/300\n",
      "210115/210115 [==============================] - 17s 81us/step - loss: 0.3351 - acc: 0.8290 - val_loss: 0.8101 - val_acc: 0.7054\n",
      "Epoch 177/300\n",
      "210115/210115 [==============================] - 17s 81us/step - loss: 0.3360 - acc: 0.8281 - val_loss: 0.8040 - val_acc: 0.7084\n",
      "Epoch 178/300\n",
      "210115/210115 [==============================] - 17s 81us/step - loss: 0.3359 - acc: 0.8278 - val_loss: 0.8097 - val_acc: 0.7123\n",
      "Epoch 179/300\n",
      "210115/210115 [==============================] - 17s 81us/step - loss: 0.3356 - acc: 0.8284 - val_loss: 0.8147 - val_acc: 0.7127\n",
      "Epoch 180/300\n",
      "210115/210115 [==============================] - 17s 82us/step - loss: 0.3362 - acc: 0.8280 - val_loss: 0.8022 - val_acc: 0.7113\n",
      "Epoch 181/300\n",
      "210115/210115 [==============================] - 17s 81us/step - loss: 0.3349 - acc: 0.8286 - val_loss: 0.8094 - val_acc: 0.7131\n",
      "Epoch 182/300\n",
      "210115/210115 [==============================] - 17s 81us/step - loss: 0.3339 - acc: 0.8301 - val_loss: 0.8025 - val_acc: 0.7123\n",
      "Epoch 183/300\n",
      "210115/210115 [==============================] - 17s 81us/step - loss: 0.3355 - acc: 0.8284 - val_loss: 0.8047 - val_acc: 0.7153\n",
      "Epoch 184/300\n",
      "210115/210115 [==============================] - 18s 85us/step - loss: 0.3347 - acc: 0.8289 - val_loss: 0.8148 - val_acc: 0.7063\n",
      "Epoch 185/300\n",
      "210115/210115 [==============================] - 17s 83us/step - loss: 0.3335 - acc: 0.8299 - val_loss: 0.8155 - val_acc: 0.7125\n",
      "Epoch 186/300\n",
      "210115/210115 [==============================] - 17s 82us/step - loss: 0.3342 - acc: 0.8290 - val_loss: 0.8213 - val_acc: 0.7121\n",
      "Epoch 187/300\n",
      "210115/210115 [==============================] - 17s 82us/step - loss: 0.3341 - acc: 0.8292 - val_loss: 0.8179 - val_acc: 0.7087\n",
      "Epoch 188/300\n",
      "210115/210115 [==============================] - 17s 81us/step - loss: 0.3346 - acc: 0.8286 - val_loss: 0.8249 - val_acc: 0.7093\n",
      "Epoch 189/300\n",
      "210115/210115 [==============================] - 17s 82us/step - loss: 0.3344 - acc: 0.8281 - val_loss: 0.8229 - val_acc: 0.7072\n",
      "Epoch 190/300\n",
      "210115/210115 [==============================] - 17s 82us/step - loss: 0.3337 - acc: 0.8301 - val_loss: 0.8210 - val_acc: 0.7088\n",
      "Epoch 191/300\n",
      "210115/210115 [==============================] - 17s 82us/step - loss: 0.3339 - acc: 0.8284 - val_loss: 0.8290 - val_acc: 0.7033\n",
      "Epoch 192/300\n",
      "210115/210115 [==============================] - 17s 82us/step - loss: 0.3346 - acc: 0.8295 - val_loss: 0.8287 - val_acc: 0.7158\n",
      "Epoch 193/300\n",
      "210115/210115 [==============================] - 18s 87us/step - loss: 0.3339 - acc: 0.8291 - val_loss: 0.8273 - val_acc: 0.7058\n",
      "Epoch 194/300\n",
      "210115/210115 [==============================] - 18s 87us/step - loss: 0.3335 - acc: 0.8294 - val_loss: 0.8285 - val_acc: 0.7096\n",
      "Epoch 195/300\n",
      "210115/210115 [==============================] - 17s 82us/step - loss: 0.3339 - acc: 0.8298 - val_loss: 0.8311 - val_acc: 0.7095\n",
      "Epoch 196/300\n",
      "210115/210115 [==============================] - 17s 81us/step - loss: 0.3333 - acc: 0.8298 - val_loss: 0.8208 - val_acc: 0.7107\n",
      "Epoch 197/300\n",
      "210115/210115 [==============================] - 17s 81us/step - loss: 0.3324 - acc: 0.8303 - val_loss: 0.8228 - val_acc: 0.7092\n",
      "Epoch 198/300\n",
      "210115/210115 [==============================] - 17s 81us/step - loss: 0.3322 - acc: 0.8303 - val_loss: 0.8231 - val_acc: 0.7162\n",
      "Epoch 199/300\n",
      "210115/210115 [==============================] - 17s 83us/step - loss: 0.3334 - acc: 0.8289 - val_loss: 0.8271 - val_acc: 0.7090\n",
      "Epoch 200/300\n",
      "210115/210115 [==============================] - 17s 81us/step - loss: 0.3336 - acc: 0.8287 - val_loss: 0.8298 - val_acc: 0.7095\n",
      "Epoch 201/300\n",
      "210115/210115 [==============================] - 17s 81us/step - loss: 0.3337 - acc: 0.8297 - val_loss: 0.8288 - val_acc: 0.7101\n",
      "Epoch 202/300\n",
      "210115/210115 [==============================] - 17s 82us/step - loss: 0.3328 - acc: 0.8304 - val_loss: 0.8333 - val_acc: 0.7072\n",
      "Epoch 203/300\n",
      "210115/210115 [==============================] - 17s 81us/step - loss: 0.3318 - acc: 0.8301 - val_loss: 0.8365 - val_acc: 0.7073\n",
      "Epoch 204/300\n",
      "210115/210115 [==============================] - 17s 82us/step - loss: 0.3327 - acc: 0.8301 - val_loss: 0.8354 - val_acc: 0.7132\n",
      "Epoch 205/300\n",
      "210115/210115 [==============================] - 17s 83us/step - loss: 0.3329 - acc: 0.8292 - val_loss: 0.8370 - val_acc: 0.7129\n",
      "Epoch 206/300\n",
      "210115/210115 [==============================] - 17s 82us/step - loss: 0.3325 - acc: 0.8295 - val_loss: 0.8366 - val_acc: 0.7078\n",
      "Epoch 207/300\n",
      "210115/210115 [==============================] - 17s 82us/step - loss: 0.3333 - acc: 0.8292 - val_loss: 0.8450 - val_acc: 0.6948\n",
      "Epoch 208/300\n",
      "210115/210115 [==============================] - 18s 84us/step - loss: 0.3323 - acc: 0.8302 - val_loss: 0.8412 - val_acc: 0.7051\n",
      "Epoch 209/300\n",
      "210115/210115 [==============================] - 17s 82us/step - loss: 0.3315 - acc: 0.8306 - val_loss: 0.8444 - val_acc: 0.7066\n",
      "Epoch 210/300\n",
      "210115/210115 [==============================] - 18s 84us/step - loss: 0.3324 - acc: 0.8300 - val_loss: 0.8499 - val_acc: 0.6970\n",
      "Epoch 211/300\n",
      "210115/210115 [==============================] - 17s 83us/step - loss: 0.3325 - acc: 0.8302 - val_loss: 0.8565 - val_acc: 0.7086\n",
      "Epoch 212/300\n",
      "210115/210115 [==============================] - 17s 82us/step - loss: 0.3324 - acc: 0.8296 - val_loss: 0.8480 - val_acc: 0.7090\n",
      "Epoch 213/300\n",
      "210115/210115 [==============================] - 17s 82us/step - loss: 0.3325 - acc: 0.8304 - val_loss: 0.8489 - val_acc: 0.7165\n",
      "Epoch 214/300\n",
      "210115/210115 [==============================] - 18s 85us/step - loss: 0.3317 - acc: 0.8303 - val_loss: 0.8493 - val_acc: 0.7044\n",
      "Epoch 215/300\n",
      "210115/210115 [==============================] - 19s 89us/step - loss: 0.3322 - acc: 0.8298 - val_loss: 0.8490 - val_acc: 0.7062\n",
      "Epoch 216/300\n",
      "210115/210115 [==============================] - 18s 88us/step - loss: 0.3315 - acc: 0.8298 - val_loss: 0.8523 - val_acc: 0.7065\n",
      "Epoch 217/300\n",
      "210115/210115 [==============================] - 18s 88us/step - loss: 0.3323 - acc: 0.8301 - val_loss: 0.8602 - val_acc: 0.7041\n",
      "Epoch 218/300\n",
      "210115/210115 [==============================] - 16s 77us/step - loss: 0.3330 - acc: 0.8298 - val_loss: 0.8568 - val_acc: 0.7112\n",
      "Epoch 219/300\n",
      "210115/210115 [==============================] - 16s 76us/step - loss: 0.3315 - acc: 0.8313 - val_loss: 0.8598 - val_acc: 0.7030\n",
      "Epoch 220/300\n",
      "210115/210115 [==============================] - 16s 75us/step - loss: 0.3318 - acc: 0.8298 - val_loss: 0.8567 - val_acc: 0.7133\n",
      "Epoch 221/300\n",
      "210115/210115 [==============================] - 16s 76us/step - loss: 0.3319 - acc: 0.8305 - val_loss: 0.8640 - val_acc: 0.7010\n",
      "Epoch 222/300\n",
      "210115/210115 [==============================] - 19s 92us/step - loss: 0.3317 - acc: 0.8306 - val_loss: 0.8560 - val_acc: 0.7136\n",
      "Epoch 223/300\n",
      "210115/210115 [==============================] - 19s 92us/step - loss: 0.3308 - acc: 0.8306 - val_loss: 0.8559 - val_acc: 0.7061\n",
      "Epoch 224/300\n",
      "210115/210115 [==============================] - 19s 90us/step - loss: 0.3307 - acc: 0.8315 - val_loss: 0.8523 - val_acc: 0.7110\n",
      "Epoch 225/300\n",
      "210115/210115 [==============================] - 19s 91us/step - loss: 0.3314 - acc: 0.8301 - val_loss: 0.8477 - val_acc: 0.7082\n",
      "Epoch 226/300\n",
      "210115/210115 [==============================] - 19s 90us/step - loss: 0.3307 - acc: 0.8314 - val_loss: 0.8566 - val_acc: 0.7026\n",
      "Epoch 227/300\n",
      "210115/210115 [==============================] - 19s 92us/step - loss: 0.3312 - acc: 0.8311 - val_loss: 0.8604 - val_acc: 0.7080\n",
      "Epoch 228/300\n",
      "210115/210115 [==============================] - 19s 91us/step - loss: 0.3305 - acc: 0.8306 - val_loss: 0.8586 - val_acc: 0.7101\n",
      "Epoch 229/300\n"
     ]
    },
    {
     "name": "stdout",
     "output_type": "stream",
     "text": [
      "210115/210115 [==============================] - 18s 85us/step - loss: 0.3300 - acc: 0.8316 - val_loss: 0.8578 - val_acc: 0.7090\n",
      "Epoch 230/300\n",
      "210115/210115 [==============================] - 18s 87us/step - loss: 0.3304 - acc: 0.8317 - val_loss: 0.8588 - val_acc: 0.7020\n",
      "Epoch 231/300\n",
      "210115/210115 [==============================] - 19s 89us/step - loss: 0.3308 - acc: 0.8310 - val_loss: 0.8663 - val_acc: 0.7014\n",
      "Epoch 232/300\n",
      "210115/210115 [==============================] - 19s 88us/step - loss: 0.3303 - acc: 0.8304 - val_loss: 0.8766 - val_acc: 0.7068\n",
      "Epoch 233/300\n",
      "210115/210115 [==============================] - 18s 86us/step - loss: 0.3301 - acc: 0.8307 - val_loss: 0.8603 - val_acc: 0.7080\n",
      "Epoch 234/300\n",
      "210115/210115 [==============================] - 17s 81us/step - loss: 0.3294 - acc: 0.8318 - val_loss: 0.8607 - val_acc: 0.7079\n",
      "Epoch 235/300\n",
      "210115/210115 [==============================] - 17s 82us/step - loss: 0.3308 - acc: 0.8308 - val_loss: 0.8632 - val_acc: 0.7059\n",
      "Epoch 236/300\n",
      "210115/210115 [==============================] - 18s 84us/step - loss: 0.3294 - acc: 0.8307 - val_loss: 0.8764 - val_acc: 0.7021\n",
      "Epoch 237/300\n",
      "210115/210115 [==============================] - 18s 84us/step - loss: 0.3303 - acc: 0.8312 - val_loss: 0.8722 - val_acc: 0.7072\n",
      "Epoch 238/300\n",
      "210115/210115 [==============================] - 17s 83us/step - loss: 0.3297 - acc: 0.8313 - val_loss: 0.8788 - val_acc: 0.7136\n",
      "Epoch 239/300\n",
      "210115/210115 [==============================] - 18s 88us/step - loss: 0.3303 - acc: 0.8310 - val_loss: 0.8697 - val_acc: 0.7096\n",
      "Epoch 240/300\n",
      "210115/210115 [==============================] - 17s 79us/step - loss: 0.3291 - acc: 0.8321 - val_loss: 0.8795 - val_acc: 0.7141\n",
      "Epoch 241/300\n",
      "210115/210115 [==============================] - 18s 85us/step - loss: 0.3294 - acc: 0.8324 - val_loss: 0.8795 - val_acc: 0.7047\n",
      "Epoch 242/300\n",
      "210115/210115 [==============================] - 18s 85us/step - loss: 0.3280 - acc: 0.8325 - val_loss: 0.8725 - val_acc: 0.7050\n",
      "Epoch 243/300\n",
      "210115/210115 [==============================] - 18s 83us/step - loss: 0.3292 - acc: 0.8318 - val_loss: 0.8677 - val_acc: 0.7087\n",
      "Epoch 244/300\n",
      "210115/210115 [==============================] - 18s 84us/step - loss: 0.3291 - acc: 0.8318 - val_loss: 0.8739 - val_acc: 0.7130\n",
      "Epoch 245/300\n",
      "210115/210115 [==============================] - 18s 83us/step - loss: 0.3289 - acc: 0.8314 - val_loss: 0.8710 - val_acc: 0.7064\n",
      "Epoch 246/300\n",
      "210115/210115 [==============================] - 17s 83us/step - loss: 0.3289 - acc: 0.8314 - val_loss: 0.8716 - val_acc: 0.7026\n",
      "Epoch 247/300\n",
      "210115/210115 [==============================] - 18s 86us/step - loss: 0.3292 - acc: 0.8310 - val_loss: 0.8744 - val_acc: 0.7045\n",
      "Epoch 248/300\n",
      "210115/210115 [==============================] - 18s 86us/step - loss: 0.3291 - acc: 0.8316 - val_loss: 0.8747 - val_acc: 0.7078\n",
      "Epoch 249/300\n",
      "210115/210115 [==============================] - 18s 86us/step - loss: 0.3294 - acc: 0.8311 - val_loss: 0.8920 - val_acc: 0.7030\n",
      "Epoch 250/300\n",
      "210115/210115 [==============================] - 17s 83us/step - loss: 0.3284 - acc: 0.8321 - val_loss: 0.8867 - val_acc: 0.6971\n",
      "Epoch 251/300\n",
      "210115/210115 [==============================] - 18s 83us/step - loss: 0.3282 - acc: 0.8324 - val_loss: 0.8876 - val_acc: 0.6952\n",
      "Epoch 252/300\n",
      "210115/210115 [==============================] - 18s 84us/step - loss: 0.3279 - acc: 0.8326 - val_loss: 0.8852 - val_acc: 0.7000\n",
      "Epoch 253/300\n",
      "210115/210115 [==============================] - 18s 86us/step - loss: 0.3286 - acc: 0.8327 - val_loss: 0.8832 - val_acc: 0.7002\n",
      "Epoch 254/300\n",
      "210115/210115 [==============================] - 18s 86us/step - loss: 0.3292 - acc: 0.8317 - val_loss: 0.8786 - val_acc: 0.6998\n",
      "Epoch 255/300\n",
      "210115/210115 [==============================] - 18s 86us/step - loss: 0.3282 - acc: 0.8328 - val_loss: 0.8839 - val_acc: 0.7086\n",
      "Epoch 256/300\n",
      "210115/210115 [==============================] - 18s 85us/step - loss: 0.3283 - acc: 0.8322 - val_loss: 0.8852 - val_acc: 0.7001\n",
      "Epoch 257/300\n",
      "210115/210115 [==============================] - 18s 84us/step - loss: 0.3283 - acc: 0.8315 - val_loss: 0.8807 - val_acc: 0.7070\n",
      "Epoch 258/300\n",
      "210115/210115 [==============================] - 18s 84us/step - loss: 0.3284 - acc: 0.8326 - val_loss: 0.8861 - val_acc: 0.7039\n",
      "Epoch 259/300\n",
      "210115/210115 [==============================] - 18s 83us/step - loss: 0.3278 - acc: 0.8326 - val_loss: 0.8854 - val_acc: 0.6995\n",
      "Epoch 260/300\n",
      "210115/210115 [==============================] - 18s 84us/step - loss: 0.3287 - acc: 0.8318 - val_loss: 0.8933 - val_acc: 0.7055\n",
      "Epoch 261/300\n",
      "210115/210115 [==============================] - 18s 84us/step - loss: 0.3281 - acc: 0.8324 - val_loss: 0.8998 - val_acc: 0.6974\n",
      "Epoch 262/300\n",
      "210115/210115 [==============================] - 18s 84us/step - loss: 0.3280 - acc: 0.8325 - val_loss: 0.8950 - val_acc: 0.7013\n",
      "Epoch 263/300\n",
      "210115/210115 [==============================] - 18s 84us/step - loss: 0.3285 - acc: 0.8334 - val_loss: 0.8973 - val_acc: 0.7067\n",
      "Epoch 264/300\n",
      "210115/210115 [==============================] - 18s 84us/step - loss: 0.3275 - acc: 0.8329 - val_loss: 0.8980 - val_acc: 0.7033\n",
      "Epoch 265/300\n",
      "210115/210115 [==============================] - 18s 85us/step - loss: 0.3267 - acc: 0.8338 - val_loss: 0.8975 - val_acc: 0.7013\n",
      "Epoch 266/300\n",
      "210115/210115 [==============================] - 18s 84us/step - loss: 0.3280 - acc: 0.8326 - val_loss: 0.8975 - val_acc: 0.7110\n",
      "Epoch 267/300\n",
      "210115/210115 [==============================] - 18s 85us/step - loss: 0.3288 - acc: 0.8314 - val_loss: 0.9018 - val_acc: 0.7023\n",
      "Epoch 268/300\n",
      "210115/210115 [==============================] - 18s 85us/step - loss: 0.3276 - acc: 0.8327 - val_loss: 0.9008 - val_acc: 0.7030\n",
      "Epoch 269/300\n",
      "210115/210115 [==============================] - 18s 86us/step - loss: 0.3279 - acc: 0.8323 - val_loss: 0.8997 - val_acc: 0.7040\n",
      "Epoch 270/300\n",
      "210115/210115 [==============================] - 18s 87us/step - loss: 0.3266 - acc: 0.8328 - val_loss: 0.8958 - val_acc: 0.7051\n",
      "Epoch 271/300\n",
      "210115/210115 [==============================] - 18s 87us/step - loss: 0.3276 - acc: 0.8323 - val_loss: 0.8998 - val_acc: 0.7059\n",
      "Epoch 272/300\n",
      "210115/210115 [==============================] - 18s 86us/step - loss: 0.3271 - acc: 0.8331 - val_loss: 0.9105 - val_acc: 0.7054\n",
      "Epoch 273/300\n",
      "210115/210115 [==============================] - 18s 85us/step - loss: 0.3273 - acc: 0.8329 - val_loss: 0.9028 - val_acc: 0.7053\n",
      "Epoch 274/300\n",
      "210115/210115 [==============================] - 18s 87us/step - loss: 0.3280 - acc: 0.8319 - val_loss: 0.9139 - val_acc: 0.7100\n",
      "Epoch 275/300\n",
      "210115/210115 [==============================] - 18s 86us/step - loss: 0.3273 - acc: 0.8325 - val_loss: 0.9022 - val_acc: 0.7019\n",
      "Epoch 276/300\n",
      "210115/210115 [==============================] - 18s 86us/step - loss: 0.3275 - acc: 0.8324 - val_loss: 0.9005 - val_acc: 0.7030\n",
      "Epoch 277/300\n",
      "210115/210115 [==============================] - 18s 86us/step - loss: 0.3263 - acc: 0.8336 - val_loss: 0.9002 - val_acc: 0.7035\n",
      "Epoch 278/300\n",
      "210115/210115 [==============================] - 18s 86us/step - loss: 0.3263 - acc: 0.8328 - val_loss: 0.9011 - val_acc: 0.7048\n",
      "Epoch 279/300\n",
      "210115/210115 [==============================] - 19s 89us/step - loss: 0.3276 - acc: 0.8330 - val_loss: 0.9126 - val_acc: 0.6940\n",
      "Epoch 280/300\n",
      "210115/210115 [==============================] - 18s 86us/step - loss: 0.3266 - acc: 0.8331 - val_loss: 0.9127 - val_acc: 0.7012\n",
      "Epoch 281/300\n",
      "210115/210115 [==============================] - 18s 86us/step - loss: 0.3267 - acc: 0.8330 - val_loss: 0.9081 - val_acc: 0.7083\n",
      "Epoch 282/300\n",
      "210115/210115 [==============================] - 18s 86us/step - loss: 0.3261 - acc: 0.8336 - val_loss: 0.9047 - val_acc: 0.7036\n",
      "Epoch 283/300\n",
      "210115/210115 [==============================] - 18s 87us/step - loss: 0.3272 - acc: 0.8329 - val_loss: 0.9199 - val_acc: 0.6953\n",
      "Epoch 284/300\n",
      "210115/210115 [==============================] - 18s 87us/step - loss: 0.3263 - acc: 0.8336 - val_loss: 0.9108 - val_acc: 0.7031\n",
      "Epoch 285/300\n",
      "210115/210115 [==============================] - 18s 87us/step - loss: 0.3260 - acc: 0.8344 - val_loss: 0.9151 - val_acc: 0.7046\n",
      "Epoch 286/300\n"
     ]
    },
    {
     "name": "stdout",
     "output_type": "stream",
     "text": [
      "210115/210115 [==============================] - 17s 81us/step - loss: 0.3254 - acc: 0.8344 - val_loss: 0.9165 - val_acc: 0.7003\n",
      "Epoch 287/300\n",
      "210115/210115 [==============================] - 17s 80us/step - loss: 0.3265 - acc: 0.8332 - val_loss: 0.9199 - val_acc: 0.6993\n",
      "Epoch 288/300\n",
      "210115/210115 [==============================] - 17s 79us/step - loss: 0.3268 - acc: 0.8327 - val_loss: 0.9258 - val_acc: 0.6890\n",
      "Epoch 289/300\n",
      "210115/210115 [==============================] - 17s 79us/step - loss: 0.3264 - acc: 0.8335 - val_loss: 0.9291 - val_acc: 0.7058\n",
      "Epoch 290/300\n",
      "210115/210115 [==============================] - 17s 80us/step - loss: 0.3259 - acc: 0.8336 - val_loss: 0.9207 - val_acc: 0.6974\n",
      "Epoch 291/300\n",
      "210115/210115 [==============================] - 16s 78us/step - loss: 0.3271 - acc: 0.8331 - val_loss: 0.9255 - val_acc: 0.7037\n",
      "Epoch 292/300\n",
      "210115/210115 [==============================] - 622s 3ms/step - loss: 0.3255 - acc: 0.8339 - val_loss: 0.9267 - val_acc: 0.6948\n",
      "Epoch 293/300\n",
      "210115/210115 [==============================] - 16s 77us/step - loss: 0.3257 - acc: 0.8337 - val_loss: 0.9279 - val_acc: 0.6970\n",
      "Epoch 294/300\n",
      "210115/210115 [==============================] - 16s 77us/step - loss: 0.3247 - acc: 0.8338 - val_loss: 0.9328 - val_acc: 0.7094\n",
      "Epoch 295/300\n",
      "210115/210115 [==============================] - 3215s 15ms/step - loss: 0.3260 - acc: 0.8334 - val_loss: 0.9359 - val_acc: 0.7067\n",
      "Epoch 296/300\n",
      "210115/210115 [==============================] - 18s 84us/step - loss: 0.3253 - acc: 0.8344 - val_loss: 0.9400 - val_acc: 0.7000\n",
      "Epoch 297/300\n",
      "210115/210115 [==============================] - 16s 74us/step - loss: 0.3248 - acc: 0.8341 - val_loss: 0.9609 - val_acc: 0.6868\n",
      "Epoch 298/300\n",
      "210115/210115 [==============================] - 1459s 7ms/step - loss: 0.3255 - acc: 0.8337 - val_loss: 0.9393 - val_acc: 0.7062\n",
      "Epoch 299/300\n",
      "210115/210115 [==============================] - 22s 103us/step - loss: 0.3254 - acc: 0.8335 - val_loss: 0.9296 - val_acc: 0.7044\n",
      "Epoch 300/300\n",
      "210115/210115 [==============================] - 21s 101us/step - loss: 0.3255 - acc: 0.8344 - val_loss: 0.9330 - val_acc: 0.6939\n"
     ]
    }
   ],
   "source": [
    "scaler = StandardScaler()\n",
    "inputs, outputs = lr_extract_inputs_outputs(train)\n",
    "inputs_test, outputs_test = lr_extract_inputs_outputs(test)\n",
    "history = nn_model.fit(\n",
    "    inputs,\n",
    "    outputs,\n",
    "    epochs=300,\n",
    "    batch_size=200,\n",
    "    validation_data=(\n",
    "        inputs_test,\n",
    "        outputs_test,\n",
    "    )\n",
    ")"
   ]
  },
  {
   "cell_type": "code",
   "execution_count": 34,
   "metadata": {
    "scrolled": true
   },
   "outputs": [
    {
     "name": "stdout",
     "output_type": "stream",
     "text": [
      "Model evaluation on dataset:train\n",
      "Accuracy score: 0.8552173809580468\n",
      "Precision score: 0.8515467555745424\n"
     ]
    },
    {
     "data": {
      "image/png": "[encoded data removed]",
      "text/plain": [
       "<Figure size 216x288 with 1 Axes>"
      ]
     },
     "metadata": {},
     "output_type": "display_data"
    },
    {
     "name": "stdout",
     "output_type": "stream",
     "text": [
      "Model evaluation on dataset:test\n",
      "Accuracy score: 0.6938615975671373\n",
      "Precision score: 0.7104252538453805\n"
     ]
    },
    {
     "data": {
      "image/png": "[encoded data removed]",
      "text/plain": [
       "<Figure size 216x288 with 1 Axes>"
      ]
     },
     "metadata": {},
     "output_type": "display_data"
    },
    {
     "name": "stdout",
     "output_type": "stream",
     "text": [
      "Model evaluation on dataset:validation\n",
      "Accuracy score: 0.6660674542030475\n",
      "Precision score: 0.6750320999182912\n"
     ]
    },
    {
     "data": {
      "image/png": "[encoded data removed]",
      "text/plain": [
       "<Figure size 216x288 with 1 Axes>"
      ]
     },
     "metadata": {},
     "output_type": "display_data"
    }
   ],
   "source": [
    "evaluate_model(nn_model, lr_extract_inputs_outputs, include_validation=True)"
   ]
  },
  {
   "cell_type": "code",
   "execution_count": 33,
   "metadata": {},
   "outputs": [
    {
     "data": {
      "image/png": "[encoded data removed]",
      "text/plain": [
       "<Figure size 432x288 with 1 Axes>"
      ]
     },
     "metadata": {},
     "output_type": "display_data"
    }
   ],
   "source": [
    "plt.plot(history.history['acc'], label='train')\n",
    "plt.plot(history.history['val_acc'], label='test')\n",
    "plt.title('Accuracy over train epochs')\n",
    "plt.ylabel('Accuracy')\n",
    "plt.xlabel('Epoch')\n",
    "plt.legend(loc='upper left')\n",
    "plt.show()"
   ]
  },
  {
   "cell_type": "markdown",
   "metadata": {},
   "source": [
    "### Accuracy over training epochs\n",
    "In this last try, we set up the epochs up to 300 to have a clearer visualization of the overfit consecuences. "
   ]
  },
  {
   "cell_type": "markdown",
   "metadata": {},
   "source": [
    "# What does the client get?\n",
    "Based on what we've learned so far from the data, we would deliver to our client the decision tree model, mainly because of its readability, and because it explains in some way the behavior of its \"decisions\". Even though the graphic to describe it is to complex, we are able to have a look at the Feature Importances. It's a shame that this particular problem we are approaching has such a huge diference in the influence of its inputs variables (the year is clearly deciding a LOT about the output). Although, given the case, this info can still be useful to the client.\n",
    "On the other hand, the \"black box\" paradigm of the neural network keeps these matters in the dark, so we believe the decision tree to be a more honest product to deliver, and also a more eficcient one given the metrics we are consulting."
   ]
  },
  {
   "cell_type": "code",
   "execution_count": null,
   "metadata": {},
   "outputs": [],
   "source": []
  }
 ],
 "metadata": {
  "kernelspec": {
   "display_name": "Python 3",
   "language": "python",
   "name": "python3"
  },
  "language_info": {
   "codemirror_mode": {
    "name": "ipython",
    "version": 3
   },
   "file_extension": ".py",
   "mimetype": "text/x-python",
   "name": "python",
   "nbconvert_exporter": "python",
   "pygments_lexer": "ipython3",
   "version": "3.6.5"
  }
 },
 "nbformat": 4,
 "nbformat_minor": 2
}
